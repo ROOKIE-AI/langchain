{
 "cells": [
  {
   "cell_type": "code",
   "execution_count": 1,
   "id": "2aca8168-62ec-4bba-93f0-73da08cd1920",
   "metadata": {},
   "outputs": [
    {
     "name": "stdout",
     "output_type": "stream",
     "text": [
      "Python 3.10.16\n",
      "chromadb                                 0.6.3\n",
      "cryptography                             44.0.2\n",
      "duckduckgo_search                        6.3.7\n",
      "langchain                                0.3.21\n",
      "langchain-chroma                         0.2.2\n",
      "langchain-community                      0.3.20\n",
      "langchain-core                           0.3.49\n",
      "langchain-deepseek                       0.1.3\n",
      "langchain-openai                         0.3.11\n",
      "langchain-text-splitters                 0.3.7\n",
      "langgraph                                0.3.21\n",
      "langgraph-checkpoint                     2.0.23\n",
      "langgraph-prebuilt                       0.1.7\n",
      "langgraph-sdk                            0.1.60\n",
      "langserve                                0.3.1\n",
      "langsmith                                0.3.8\n",
      "numpy                                    1.26.4\n",
      "openai                                   1.69.0\n",
      "scipy                                    1.15.2\n",
      "tiktoken                                 0.9.0\n"
     ]
    }
   ],
   "source": [
    "import sys\n",
    "import os\n",
    "from IPython.display import Markdown\n",
    "from env_key_manager import APIKeyManager\n",
    "\n",
    "APIKeyManager().setup_api_key([\n",
    "    \"DEEPSEEK_API_KEY\", \n",
    "    \"LANGSMITH_ENDPOINT\", \n",
    "    \"LANGSMITH_API_KEY\", \n",
    "    \"LANGSMITH_PROJECT\"\n",
    "])\n",
    "\n",
    "os.environ['LANGSMITH_TRACING'] = \"true\"\n",
    "\n",
    "# 查看Python版本\n",
    "!python -V\n",
    "# 查看安装的库\n",
    "if 'win' in sys.platform.lower():\n",
    "    !pip list | findstr \"lang openai llm tiktoken chromadb cryptography duck unstructured numpy scipy\"\n",
    "else:\n",
    "    !pip list | grep -E \"lang|openai|llm|tiktoken|chromadb|cryptography|duck|unstructured|numpy|scipy\""
   ]
  },
  {
   "cell_type": "markdown",
   "id": "cf13f702",
   "metadata": {},
   "source": [
    "# 文本摘要\n",
    "\n",
    ":::info\n",
    "\n",
    "本教程演示了如何使用内置链和[LangGraph](https://langchain-ai.github.io/langgraph/)实现文本摘要。\n",
    "\n",
    "[先前版本](https://python.langchain.com/v0.1/docs/use_cases/summarization/)的本页面展示了旧版链[StuffDocumentsChain](/docs/versions/migrating_chains/stuff_docs_chain/)、[MapReduceDocumentsChain](/docs/versions/migrating_chains/map_reduce_chain/)和[RefineDocumentsChain](https://python.langchain.com/docs/versions/migrating_chains/refine_docs_chain/)。有关使用这些抽象方法的信息及与本教程所示方法的对比，请参阅[此处](/docs/versions/migrating_chains/)。\n",
    "\n",
    ":::\n",
    "\n",
    "假设你有一组文档（PDF、Notion页面、客户问题等），并且你想要总结其中的内容。\n",
    "\n",
    "鉴于大型语言模型在理解和综合文本方面的熟练程度，它们是实现这一目标的绝佳工具。\n",
    "\n",
    "在[检索增强生成](/docs/tutorials/rag)的背景下，文本摘要有助于从大量检索到的文档中提炼信息，从而为大型语言模型（LLM）提供上下文。\n",
    "\n",
    "在本教程中，我们将介绍如何使用大语言模型（LLMs）从多份文档中总结内容。"
   ]
  },
  {
   "cell_type": "markdown",
   "id": "8e233997",
   "metadata": {},
   "source": [
    "![图片描述](../../static/img/summarization_use_case_1.png)"
   ]
  },
  {
   "cell_type": "markdown",
   "id": "cc8c5f87-3239-44e1-8772-a97cb6138cc5",
   "metadata": {},
   "source": [
    "## 概念\n",
    "\n",
    "我们将涵盖的概念包括：\n",
    "\n",
    "- 使用[语言模型](/docs/concepts/chat_models)。\n",
    "\n",
    "- 使用[文档加载器](/docs/concepts/document_loaders)，特别是[WebBaseLoader](https://python.langchain.com/api_reference/community/document_loaders/langchain_community.document_loaders.web_base.WebBaseLoader.html)从HTML网页加载内容。\n",
    "\n",
    "- 两种方法来总结或合并文档。\n",
    "1. [填充](/docs/tutorials/summarization#stuff)，即简单地将文档串联成一个提示；\n",
    "2. [Map-reduce（映射-归约）](/docs/tutorials/summarization#map-reduce)，适用于较大规模的文档集。该方法将文档分批处理，先对各批次进行摘要生成，再对生成的摘要进行二次汇总。\n",
    "\n",
    "关于这些策略及其他方法的简短针对性指南（包括[迭代优化](/docs/how_to/summarize_refine)），可在[操作指南](/docs/how_to/#summarization)中找到。\n",
    "\n",
    "## 安装设置\n",
    "\n",
    "### Jupyter Notebook\n",
    "\n",
    "本指南（以及文档中的大多数其他指南）使用 [Jupyter Notebooks](https://jupyter.org/)，并假设读者也在使用它。Jupyter Notebooks 非常适合学习如何使用 LLM 系统，因为经常会出现问题（意外的输出、API 宕机等），而在交互式环境中学习指南是更好地理解它们的绝佳方式。\n",
    "\n",
    "本教程及其他教程或许在 Jupyter notebook 中运行最为便捷。有关安装说明，请参阅[此处](https://jupyter.org/install)。\n",
    "\n",
    "### 安装\n",
    "\n",
    "要安装LangChain，请运行：\n",
    "\n",
    "import Tabs from '@theme/Tabs';\n",
    "import TabItem from '@theme/TabItem';\n",
    "import CodeBlock from \"@theme/CodeBlock\";\n",
    "\n",
    "<Tabs>\n",
    "  <TabItem value=\"pip\" label=\"Pip\" default>\n",
    "<CodeBlock language=\"bash\">pip install langchain</CodeBlock>\n",
    "  </TabItem>\n",
    "  <TabItem value=\"conda\" label=\"Conda\">\n",
    "<CodeBlock language=\"bash\">conda install langchain -c conda-forge</CodeBlock>\n",
    "  </TabItem>\n",
    "</Tabs>\n",
    "\n",
    "\n",
    "\n",
    "更多详情，请参阅我们的[安装指南](/docs/how_to/installation)。\n",
    "\n",
    "### LangSmith\n",
    "\n",
    "使用LangChain构建的许多应用程序将包含多个步骤，涉及多次LLM调用。\n",
    "随着这些应用变得越来越复杂，能够检查链或代理内部究竟发生了什么变得至关重要。\n",
    "最佳方式是通过 [LangSmith](https://smith.langchain.com) 实现。\n",
    "\n",
    "在以上链接完成注册后，请确保设置环境变量以开始记录追踪数据"
   ]
  },
  {
   "cell_type": "markdown",
   "id": "4715b4ff",
   "metadata": {},
   "source": [
    "## 概述\n",
    "\n",
    "构建摘要生成器的核心问题在于如何将文档内容传递到大型语言模型(LLM)的上下文窗口中。对此通常有两种常见方法：\n",
    "\n",
    "1. `Stuff`（堆叠法）：简单地将所有文档“堆叠”到一个提示中。这是最直接的方法（更多关于用于此方法的`create_stuff_documents_chain`构造函数的信息，请参见[此处](/docs/how_to/summarize_stuff/)）。\n",
    "\n",
    "2. `Map-reduce`（映射-归约）：在“映射”步骤中独立总结每个文档，随后将各摘要“归约”为最终摘要（更多关于此方法使用的`MapReduceDocumentsChain`，请参见[此处](https://python.langchain.com/api_reference/langchain/chains/langchain.chains.combine_documents.map_reduce.MapReduceDocumentsChain.html)）。\n",
    "\n",
    "请注意，当对子文档的理解不依赖于前文时，Map-Reduce（映射-归约）方法尤其有效。例如，在总结由许多较短文档组成的语料库时。而在其他情况下，比如总结具有内在顺序的小说或文本主体时，[迭代优化](/docs/how_to/summarize_refine)方法可能更为有效。"
   ]
  },
  {
   "cell_type": "markdown",
   "id": "08ec66bc",
   "metadata": {},
   "source": [
    "![图片描述](../../static/img/summarization_use_case_2.png)"
   ]
  },
  {
   "cell_type": "markdown",
   "id": "bea785ac",
   "metadata": {},
   "source": [
    "## 安装设置\n",
    "\n",
    "首先设置环境变量并安装包："
   ]
  },
  {
   "cell_type": "code",
   "execution_count": null,
   "id": "928585ec-6f6f-4b67-b2c8-0fc87186342b",
   "metadata": {},
   "outputs": [],
   "source": [
    "# %pip install --upgrade --quiet tiktoken langchain langgraph beautifulsoup4 langchain-community\n",
    "\n",
    "# Set env var OPENAI_API_KEY or load from a .env file\n",
    "# import dotenv\n",
    "\n",
    "# dotenv.load_dotenv()"
   ]
  },
  {
   "cell_type": "code",
   "execution_count": 2,
   "id": "d6276d52-d33f-4b6a-aae3-2682df9eb8a7",
   "metadata": {},
   "outputs": [],
   "source": [
    "import os\n",
    "\n",
    "os.environ[\"LANGSMITH_TRACING\"] = \"true\""
   ]
  },
  {
   "cell_type": "markdown",
   "id": "21541329-f883-42ca-bc94-ab9793951dfa",
   "metadata": {},
   "source": [
    "首先我们加载文档。我们将使用 [WebBaseLoader](https://python.langchain.com/api_reference/community/document_loaders/langchain_community.document_loaders.web_base.WebBaseLoader.html) 来加载一篇博客文章："
   ]
  },
  {
   "cell_type": "code",
   "execution_count": 3,
   "id": "23154e97-c4cb-4bcb-a742-f0c9d06639da",
   "metadata": {},
   "outputs": [
    {
     "name": "stderr",
     "output_type": "stream",
     "text": [
      "USER_AGENT environment variable not set, consider setting it to identify your requests.\n"
     ]
    }
   ],
   "source": [
    "from langchain_community.document_loaders import WebBaseLoader\n",
    "\n",
    "loader = WebBaseLoader(\"https://lilianweng.github.io/posts/2023-06-23-agent/\")\n",
    "docs = loader.load()"
   ]
  },
  {
   "cell_type": "code",
   "execution_count": 12,
   "id": "376419f5",
   "metadata": {},
   "outputs": [
    {
     "data": {
      "text/markdown": [
       "Building agents with LLM (large language model) as its core controller is a cool concept. Several proof-of-concepts demos, such as AutoGPT, GPT-Engineer and BabyAGI, serve as inspiring examples. The potentiality of LLM extends beyond generating well-written copies, stories, essays and programs; it can be framed as a powerful general problem solver.\n",
       "Agent System Overview\n",
       "In a LLM-powered autonomous agent system, LLM functions as the agent’s brain, complemented by several key components:\n",
       "\n",
       "Planning\n",
       "\n",
       "Subgoal and decomposition: The agent breaks down large tasks into smaller, manageable subgoals, enabling efficient handling of complex tasks.\n",
       "Reflection and refinement: The agent can do self-criticism and self-reflection over past actions, learn from mistakes and refine them for future steps, thereby improving the quality of final results.\n",
       "\n",
       "\n",
       "Memory\n",
       "\n",
       "Short-term memory: I would consider all the in-context learning (See Prompt Engineering) as utilizing short-term memory of the model to learn.\n",
       "Long-term memory: This provides the agent with the capability to retain and recall (infinite) information over extended periods, often by leveraging an external vector store and fast retrieval.\n",
       "\n",
       "\n",
       "Tool use\n",
       "\n",
       "The agent learns to call external APIs for extra information that is missing from the model weights (often hard to change after pre-training), including current information, code execution capability, access to proprietary information sources and more.\n",
       "\n",
       "\n",
       "\n",
       "\n",
       "Fig. 1. Overview of a LLM-powered autonomous agent system.\n",
       "Component One: Planning\n",
       "A complicated task usually involves many steps. An agent needs to know what they are and plan ahead."
      ],
      "text/plain": [
       "<IPython.core.display.Markdown object>"
      ]
     },
     "execution_count": 12,
     "metadata": {},
     "output_type": "execute_result"
    }
   ],
   "source": [
    "Markdown(docs[0].metadata['description'])"
   ]
  },
  {
   "cell_type": "markdown",
   "id": "22548ae0-7f67-4dd0-a3f8-d6675b38df53",
   "metadata": {},
   "source": [
    "接下来让我们选择一个大型语言模型（LLM）：\n",
    "\n",
    "import ChatModelTabs from \"@theme/ChatModelTabs\";\n",
    "\n",
    "<ChatModelTabs\n",
    "customVarName=\"llm\"\n",
    "/>"
   ]
  },
  {
   "cell_type": "code",
   "execution_count": 18,
   "id": "b1c639d9-b27c-4e71-9312-d2666b05f1e3",
   "metadata": {},
   "outputs": [],
   "source": [
    "# | output: false\n",
    "# | echo: false\n",
    "\n",
    "from langchain_deepseek import ChatDeepSeek\n",
    "\n",
    "llm = ChatDeepSeek(model=\"deepseek-chat\", temperature=0)"
   ]
  },
  {
   "cell_type": "markdown",
   "id": "615b36e1",
   "metadata": {},
   "source": [
    "## 资料：通过单次LLM调用进行总结 {#stuff}\n",
    "\n",
    "我们可以使用 [create_stuff_documents_chain](https://python.langchain.com/api_reference/langchain/chains/langchain.chains.combine_documents.stuff.create_stuff_documents_chain.html)，特别是在使用具有更大上下文窗口的模型时，例如：\n",
    "\n",
    "* 128k token OpenAI `gpt-4o`\n",
    "* 20万token Anthropic `claude-3-5-sonnet-20240620`\n",
    "\n",
    "该链将接收一份文档列表，将它们全部插入到提示中，并将该提示传递给大型语言模型（LLM）："
   ]
  },
  {
   "cell_type": "code",
   "execution_count": 20,
   "id": "ef45585d",
   "metadata": {},
   "outputs": [
    {
     "data": {
      "text/markdown": [
       "本文探讨了基于大型语言模型（LLM）的自主代理系统，介绍了其核心组件、案例研究和当前挑战。文章首先概述了代理系统的三个关键组成部分：规划（任务分解与自我反思）、记忆（短期与长期记忆）和工具使用（如API调用）。随后通过科学发现代理、生成式代理模拟等案例展示了实际应用场景，并分析了AutoGPT、GPT-Engineer等概念验证项目的实现机制。最后指出有限上下文长度、长期规划可靠性、自然语言接口稳定性等主要挑战，为LLM代理系统的未来发展提供了技术框架和思考方向。"
      ],
      "text/plain": [
       "<IPython.core.display.Markdown object>"
      ]
     },
     "execution_count": 20,
     "metadata": {},
     "output_type": "execute_result"
    }
   ],
   "source": [
    "from langchain.chains.combine_documents import create_stuff_documents_chain   # create_stuff_documents_chain: 从文档生成摘要\n",
    "from langchain.chains.llm import LLMChain\n",
    "from langchain_core.prompts import ChatPromptTemplate\n",
    "\n",
    "# 定义提示\n",
    "prompt = ChatPromptTemplate.from_messages(\n",
    "    [(\"system\", \"为以下内容写一个简洁的摘要(zh):\\\\n\\\\n{context}\")]\n",
    ")\n",
    "\n",
    "# 实例化链\n",
    "chain = create_stuff_documents_chain(llm, prompt)\n",
    "\n",
    "# 调用链\n",
    "result = chain.invoke({\"context\": docs})\n",
    "Markdown(result)"
   ]
  },
  {
   "cell_type": "markdown",
   "id": "02d5a634-203c-4e43-ac55-4e502be095d3",
   "metadata": {},
   "source": [
    "### 流式传输\n",
    "\n",
    "请注意，我们也可以逐令牌流式传输结果："
   ]
  },
  {
   "cell_type": "code",
   "execution_count": 7,
   "id": "ebc5b1ff-512f-4732-b385-b8829e069de8",
   "metadata": {},
   "outputs": [
    {
     "name": "stdout",
     "output_type": "stream",
     "text": [
      "|The| article| \"|LL|M| Powered| Autonomous| Agents|\"| by| Lil|ian| W|eng| discusses| the| development| and| capabilities| of| autonomous| agents| powered| by| large| language| models| (|LL|Ms|).| It| outlines| a| system| architecture| that| includes| three| main| components|:| Planning|,| Memory|,| and| Tool| Use|.| \n",
      "\n",
      "|1|.| **|Planning|**| involves| task| decomposition|,| where| complex| tasks| are| broken| down| into| manageable| sub|go|als|,| and| self|-ref|lection|,| allowing| agents| to| learn| from| past| actions| to| improve| future| performance|.| Techniques| like| Chain| of| Thought| (|Co|T|)| and| Tree| of| Thoughts| (|To|T|)| are| highlighted| for| enhancing| reasoning| and| planning|.\n",
      "\n",
      "|2|.| **|Memory|**| is| categorized| into| short|-term| and| long|-term| memory|,| with| mechanisms| for| fast| retrieval| using| Maximum| Inner| Product| Search| (|M|IPS|)| algorithms|.| This| allows| agents| to| retain| and| recall| information| effectively|.\n",
      "\n",
      "|3|.| **|Tool| Use|**| emphasizes| the| integration| of| external| APIs| and| tools| to| extend| the| capabilities| of| L|LM|s|,| enabling| them| to| perform| tasks| beyond| their| inherent| limitations|.| Examples| include| MR|KL| systems| and| frameworks| like| Hug|ging|GPT|,| which| facilitate| task| planning| and| execution|.\n",
      "\n",
      "|The| article| also| addresses| challenges| such| as| finite| context| length|,| difficulties| in| long|-term| planning|,| and| the| reliability| of| natural| language| interfaces|.| It| concludes| with| case| studies| demonstrating| the| practical| applications| of| L|LM|-powered| agents| in| scientific| discovery| and| interactive| simulations|.| Overall|,| the| piece| illustrates| the| potential| of| L|LM|s| as| general| problem| sol|vers| and| their| evolving| role| in| autonomous| systems|.||"
     ]
    }
   ],
   "source": [
    "for token in chain.stream({\"context\": docs}):\n",
    "    print(token, end=\"|\")"
   ]
  },
  {
   "cell_type": "markdown",
   "id": "4e4e4a43",
   "metadata": {},
   "source": [
    "### 深入探索\n",
    "\n",
    "* 你可以轻松自定义提示语。\n",
    "* 您可以通过 `llm` 参数轻松尝试不同的大语言模型（例如 [Claude](/docs/integrations/chat/anthropic)）。"
   ]
  },
  {
   "cell_type": "markdown",
   "id": "ad6cabee",
   "metadata": {},
   "source": [
    "## Map-Reduce：通过并行化实现长文本摘要 {#map-reduce}\n",
    "\n",
    "让我们来解析一下这种映射归约方法。具体步骤如下：首先，我们将使用大语言模型（LLM）为每份文档单独生成摘要（映射阶段）；随后，将这些独立摘要进行合并或整合，最终形成一个全局性的综合摘要（归约阶段）。\n",
    "\n",
    "请注意，映射步骤通常会对输入文档进行并行处理。\n",
    "\n",
    "[LangGraph](https://langchain-ai.github.io/langgraph/)构建于`langchain-core`之上，支持[map-reduce](https://langchain-ai.github.io/langgraph/how-tos/map-reduce/)工作流，非常适合解决此类问题：\n",
    "\n",
    "- LangGraph 支持流式传输各个步骤（例如连续摘要），从而实现对执行过程的更精细控制；\n",
    "- LangGraph的[检查点功能](https://langchain-ai.github.io/langgraph/how-tos/persistence/)支持错误恢复、扩展为包含人工介入的工作流程，并能更轻松地集成到对话式应用中。\n",
    "- 如下所示，LangGraph的实现易于修改和扩展。\n",
    "\n",
    "### 地图\n",
    "让我们首先定义与映射步骤相关的提示。我们可以使用与上述“填充”方法相同的摘要提示："
   ]
  },
  {
   "cell_type": "code",
   "execution_count": 21,
   "id": "a1e6773c",
   "metadata": {},
   "outputs": [],
   "source": [
    "from langchain_core.prompts import ChatPromptTemplate\n",
    "\n",
    "map_prompt = ChatPromptTemplate.from_messages(\n",
    "    [(\"system\", \"为以下内容写一个简洁的摘要：\\\\n\\\\n{context}\")]\n",
    ")"
   ]
  },
  {
   "cell_type": "markdown",
   "id": "272ce8ce-919d-4ded-bbd5-a53a8a30bc66",
   "metadata": {},
   "source": [
    "我们也可以使用提示中心来存储和获取提示。\n",
    "\n",
    "这将与您的 [LangSmith API 密钥](https://docs.smith.langchain.com/) 配合使用。\n",
    "\n",
    "例如，参见此处的映射提示[示例](https://smith.langchain.com/hub/rlm/map-prompt)。\n",
    "\n",
    "```python\n",
    "from langchain import hub\n",
    "\n",
    "map_prompt = hub.pull(\"rlm/map-prompt\")\n",
    "```"
   ]
  },
  {
   "cell_type": "markdown",
   "id": "bee3c331",
   "metadata": {},
   "source": [
    "### 减少\n",
    "\n",
    "我们还定义了一个提示，该提示接收文档映射结果并将其缩减为单一输出。"
   ]
  },
  {
   "cell_type": "code",
   "execution_count": 22,
   "id": "6a718890-99ab-439a-8f79-b9ae9c58ad24",
   "metadata": {},
   "outputs": [],
   "source": [
    "# 也可以通过hub获取：`hub.pull(\"rlm/reduce-prompt\")`\n",
    "reduce_template = \"\"\"\n",
    "以下是一组摘要：\n",
    "{docs}\n",
    "请将这些摘要提炼成一个最终的、综合的主题摘要。\n",
    "\"\"\"\n",
    "\n",
    "reduce_prompt = ChatPromptTemplate([(\"human\", reduce_template)])"
   ]
  },
  {
   "cell_type": "markdown",
   "id": "3d7df564-415a-49e2-80b6-743446b40be5",
   "metadata": {},
   "source": [
    "### 通过LangGraph进行编排\n",
    "\n",
    "下面我们实现一个简单的应用程序，该程序首先对文档列表执行摘要生成步骤，然后使用上述提示对摘要进行归约处理。\n",
    "\n",
    "当文本长度相对于大型语言模型（LLM）的上下文窗口较长时，Map-reduce（映射-归约）流程尤为实用。针对长文本，我们需要一种机制来确保在归约步骤中待汇总的上下文不超过模型的上下文窗口限制。此处我们实现了一种递归式\"折叠\"摘要方法：首先根据令牌限制对输入文本进行分区，并为每个分区生成摘要。若摘要总长度仍超出预期限制，则重复该步骤，直至满足要求，从而实现对任意长度文本的汇总。\n",
    "\n",
    "首先我们将博客文章分割成较小的“子文档”以便进行映射："
   ]
  },
  {
   "cell_type": "code",
   "execution_count": 23,
   "id": "7821efb9-e1de-4234-84d2-75dfe13b5a6c",
   "metadata": {},
   "outputs": [
    {
     "name": "stderr",
     "output_type": "stream",
     "text": [
      "Created a chunk of size 1003, which is longer than the specified 1000\n"
     ]
    },
    {
     "name": "stdout",
     "output_type": "stream",
     "text": [
      "Generated 14 documents.\n"
     ]
    }
   ],
   "source": [
    "from langchain_text_splitters import CharacterTextSplitter\n",
    "\n",
    "text_splitter = CharacterTextSplitter.from_tiktoken_encoder(\n",
    "    chunk_size=1000, chunk_overlap=0\n",
    ")\n",
    "split_docs = text_splitter.split_documents(docs)\n",
    "print(f\"Generated {len(split_docs)} documents.\")"
   ]
  },
  {
   "cell_type": "markdown",
   "id": "3e7f1c8a-070e-47f0-bcf2-16d6191051ac",
   "metadata": {},
   "source": [
    "接下来，我们定义我们的图。请注意，我们人为地将最大令牌长度设定为较低的1,000个令牌，以说明“折叠”步骤。"
   ]
  },
  {
   "cell_type": "code",
   "execution_count": 24,
   "id": "10ced55c-9e3e-404f-abe9-83ac29ffaa5a",
   "metadata": {},
   "outputs": [],
   "source": [
    "import operator\n",
    "from typing import Annotated, List, Literal, TypedDict\n",
    "\n",
    "from langchain.chains.combine_documents.reduce import (\n",
    "    acollapse_docs,\n",
    "    split_list_of_docs,\n",
    ")\n",
    "from langchain_core.documents import Document\n",
    "from langgraph.constants import Send\n",
    "from langgraph.graph import END, START, StateGraph\n",
    "\n",
    "token_max = 1000\n",
    "\n",
    "\n",
    "def length_function(documents: List[Document]) -> int:\n",
    "    \"\"\"获取输入内容的令牌数量。\"\"\"\n",
    "    return sum(llm.get_num_tokens(doc.page_content) for doc in documents)\n",
    "\n",
    "\n",
    "# 这将是主图的整体状态。\n",
    "# 它将包含输入文档内容、相应的摘要和最终摘要。\n",
    "class OverallState(TypedDict):\n",
    "    # 注意这里我们使用operator.add\n",
    "    # 这是因为我们希望将从各个节点生成的所有摘要\n",
    "    # 合并回一个列表 - 这本质上是\"归约\"部分\n",
    "    contents: List[str]\n",
    "    summaries: Annotated[list, operator.add]\n",
    "    collapsed_summaries: List[Document]\n",
    "    final_summary: str\n",
    "\n",
    "class SummaryState(TypedDict):\n",
    "    \"\"\"这将是我们用于\"映射\"所有文档以生成摘要的节点状态\"\"\"\n",
    "    content: str\n",
    "\n",
    "\n",
    "async def generate_summary(state: SummaryState):\n",
    "    \"\"\"这里我们根据文档生成摘要\"\"\"\n",
    "    prompt = map_prompt.invoke(state[\"content\"])\n",
    "    response = await llm.ainvoke(prompt)\n",
    "    return {\"summaries\": [response.content]}\n",
    "\n",
    "\n",
    "# 这里我们定义映射到文档的逻辑\n",
    "# 我们将在图中使用这个作为边缘\n",
    "def map_summaries(state: OverallState):\n",
    "    # 我们将返回一个`Send`对象列表\n",
    "    # 每个`Send`对象由图中节点的名称和要发送到该节点的状态组成\n",
    "    return [\n",
    "        Send(\"generate_summary\", {\"content\": content}) for content in state[\"contents\"]\n",
    "    ]\n",
    "\n",
    "\n",
    "def collect_summaries(state: OverallState):\n",
    "    \"\"\"这里我们将收集所有摘要\"\"\"\n",
    "    return {\n",
    "        \"collapsed_summaries\": [Document(summary) for summary in state[\"summaries\"]]\n",
    "    }\n",
    "\n",
    "\n",
    "async def _reduce(input: dict) -> str:\n",
    "    \"\"\"这里我们将使用reduce-prompt来减少摘要\"\"\"\n",
    "    prompt = reduce_prompt.invoke(input)\n",
    "    response = await llm.ainvoke(prompt)\n",
    "    return response.content\n",
    "\n",
    "\n",
    "# 添加节点以折叠摘要\n",
    "async def collapse_summaries(state: OverallState):\n",
    "    doc_lists = split_list_of_docs(\n",
    "        state[\"collapsed_summaries\"], length_function, token_max\n",
    "    )\n",
    "    results = []\n",
    "    for doc_list in doc_lists:\n",
    "        results.append(await acollapse_docs(doc_list, _reduce))\n",
    "\n",
    "    return {\"collapsed_summaries\": results}\n",
    "\n",
    "\n",
    "# 这表示图中的条件边缘，用于确定\n",
    "# 我们是否应该折叠摘要\n",
    "def should_collapse(\n",
    "    state: OverallState,\n",
    ") -> Literal[\"collapse_summaries\", \"generate_final_summary\"]:\n",
    "    num_tokens = length_function(state[\"collapsed_summaries\"])\n",
    "    if num_tokens > token_max:\n",
    "        return \"collapse_summaries\"\n",
    "    else:\n",
    "        return \"generate_final_summary\"\n",
    "\n",
    "\n",
    "# 这里我们将生成最终摘要\n",
    "async def generate_final_summary(state: OverallState):\n",
    "    response = await _reduce(state[\"collapsed_summaries\"])\n",
    "    return {\"final_summary\": response}\n",
    "\n",
    "\n",
    "# 构建图\n",
    "# 节点:\n",
    "graph = StateGraph(OverallState)\n",
    "graph.add_node(\"generate_summary\", generate_summary)  # 与之前相同\n",
    "graph.add_node(\"collect_summaries\", collect_summaries)\n",
    "graph.add_node(\"collapse_summaries\", collapse_summaries)\n",
    "graph.add_node(\"generate_final_summary\", generate_final_summary)\n",
    "\n",
    "# 边缘:\n",
    "graph.add_conditional_edges(START, map_summaries, [\"generate_summary\"])\n",
    "graph.add_edge(\"generate_summary\", \"collect_summaries\")\n",
    "graph.add_conditional_edges(\"collect_summaries\", should_collapse)\n",
    "graph.add_conditional_edges(\"collapse_summaries\", should_collapse)\n",
    "graph.add_edge(\"generate_final_summary\", END)\n",
    "\n",
    "app = graph.compile()"
   ]
  },
  {
   "cell_type": "markdown",
   "id": "f00af5d5-bfac-4c13-9439-aa0b18ac3b44",
   "metadata": {},
   "source": [
    "LangGraph 允许绘制图形结构，以帮助可视化其功能："
   ]
  },
  {
   "cell_type": "code",
   "execution_count": 25,
   "id": "0c8d41e4-664d-46f4-94e9-248971d428a6",
   "metadata": {},
   "outputs": [
    {
     "data": {
      "image/png": "[encoded data removed]",
      "text/plain": [
       "<IPython.core.display.Image object>"
      ]
     },
     "execution_count": 25,
     "metadata": {},
     "output_type": "execute_result"
    }
   ],
   "source": [
    "from IPython.display import Image\n",
    "\n",
    "Image(app.get_graph().draw_mermaid_png())"
   ]
  },
  {
   "cell_type": "markdown",
   "id": "678c0200-32df-4faf-bc54-a4dd470f199c",
   "metadata": {},
   "source": [
    "运行应用程序时，我们可以通过流式传输观察图的步骤序列。下面，我们将简单地打印出步骤的名称。\n",
    "\n",
    "请注意，由于图中存在循环，在执行时指定 [recursion_limit](https://langchain-ai.github.io/langgraph/reference/errors/#langgraph.errors.GraphRecursionError) 会很有帮助。当超过指定限制时，这将引发特定错误。"
   ]
  },
  {
   "cell_type": "code",
   "execution_count": 26,
   "id": "b5e32a3c-f43e-4e18-a32d-466403afa844",
   "metadata": {},
   "outputs": [
    {
     "name": "stdout",
     "output_type": "stream",
     "text": [
      "['generate_summary']\n",
      "['generate_summary']\n",
      "['generate_summary']\n",
      "['generate_summary']\n",
      "['generate_summary']\n",
      "['generate_summary']\n",
      "['generate_summary']\n",
      "['generate_summary']\n",
      "['generate_summary']\n",
      "['generate_summary']\n",
      "['generate_summary']\n",
      "['generate_summary']\n",
      "['generate_summary']\n",
      "['generate_summary']\n",
      "['collect_summaries']\n",
      "['collapse_summaries']\n",
      "['collapse_summaries']\n",
      "['collapse_summaries']\n",
      "['collapse_summaries']\n",
      "['collapse_summaries']\n",
      "['collapse_summaries']\n",
      "['collapse_summaries']\n",
      "['collapse_summaries']\n"
     ]
    },
    {
     "ename": "GraphRecursionError",
     "evalue": "Recursion limit of 10 reached without hitting a stop condition. You can increase the limit by setting the `recursion_limit` config key.\nFor troubleshooting, visit: https://python.langchain.com/docs/troubleshooting/errors/GRAPH_RECURSION_LIMIT",
     "output_type": "error",
     "traceback": [
      "\u001b[1;31m---------------------------------------------------------------------------\u001b[0m",
      "\u001b[1;31mGraphRecursionError\u001b[0m                       Traceback (most recent call last)",
      "Cell \u001b[1;32mIn[26], line 1\u001b[0m\n\u001b[1;32m----> 1\u001b[0m \u001b[38;5;28;01masync\u001b[39;00m \u001b[38;5;28;01mfor\u001b[39;00m step \u001b[38;5;129;01min\u001b[39;00m app\u001b[38;5;241m.\u001b[39mastream(\n\u001b[0;32m      2\u001b[0m     {\u001b[38;5;124m\"\u001b[39m\u001b[38;5;124mcontents\u001b[39m\u001b[38;5;124m\"\u001b[39m: [doc\u001b[38;5;241m.\u001b[39mpage_content \u001b[38;5;28;01mfor\u001b[39;00m doc \u001b[38;5;129;01min\u001b[39;00m split_docs]},\n\u001b[0;32m      3\u001b[0m     {\u001b[38;5;124m\"\u001b[39m\u001b[38;5;124mrecursion_limit\u001b[39m\u001b[38;5;124m\"\u001b[39m: \u001b[38;5;241m10\u001b[39m},\n\u001b[0;32m      4\u001b[0m ):\n\u001b[0;32m      5\u001b[0m     \u001b[38;5;28mprint\u001b[39m(\u001b[38;5;28mlist\u001b[39m(step\u001b[38;5;241m.\u001b[39mkeys()))\n",
      "File \u001b[1;32md:\\Users\\19145\\miniconda3\\envs\\llm\\lib\\site-packages\\langgraph\\pregel\\__init__.py:2643\u001b[0m, in \u001b[0;36mPregel.astream\u001b[1;34m(self, input, config, stream_mode, output_keys, interrupt_before, interrupt_after, debug, subgraphs)\u001b[0m\n\u001b[0;32m   2634\u001b[0m \u001b[38;5;28;01mif\u001b[39;00m loop\u001b[38;5;241m.\u001b[39mstatus \u001b[38;5;241m==\u001b[39m \u001b[38;5;124m\"\u001b[39m\u001b[38;5;124mout_of_steps\u001b[39m\u001b[38;5;124m\"\u001b[39m:\n\u001b[0;32m   2635\u001b[0m     msg \u001b[38;5;241m=\u001b[39m create_error_message(\n\u001b[0;32m   2636\u001b[0m         message\u001b[38;5;241m=\u001b[39m(\n\u001b[0;32m   2637\u001b[0m             \u001b[38;5;124mf\u001b[39m\u001b[38;5;124m\"\u001b[39m\u001b[38;5;124mRecursion limit of \u001b[39m\u001b[38;5;132;01m{\u001b[39;00mconfig[\u001b[38;5;124m'\u001b[39m\u001b[38;5;124mrecursion_limit\u001b[39m\u001b[38;5;124m'\u001b[39m]\u001b[38;5;132;01m}\u001b[39;00m\u001b[38;5;124m reached \u001b[39m\u001b[38;5;124m\"\u001b[39m\n\u001b[1;32m   (...)\u001b[0m\n\u001b[0;32m   2641\u001b[0m         error_code\u001b[38;5;241m=\u001b[39mErrorCode\u001b[38;5;241m.\u001b[39mGRAPH_RECURSION_LIMIT,\n\u001b[0;32m   2642\u001b[0m     )\n\u001b[1;32m-> 2643\u001b[0m     \u001b[38;5;28;01mraise\u001b[39;00m GraphRecursionError(msg)\n\u001b[0;32m   2644\u001b[0m \u001b[38;5;66;03m# set final channel values as run output\u001b[39;00m\n\u001b[0;32m   2645\u001b[0m \u001b[38;5;28;01mawait\u001b[39;00m run_manager\u001b[38;5;241m.\u001b[39mon_chain_end(loop\u001b[38;5;241m.\u001b[39moutput)\n",
      "\u001b[1;31mGraphRecursionError\u001b[0m: Recursion limit of 10 reached without hitting a stop condition. You can increase the limit by setting the `recursion_limit` config key.\nFor troubleshooting, visit: https://python.langchain.com/docs/troubleshooting/errors/GRAPH_RECURSION_LIMIT"
     ]
    }
   ],
   "source": [
    "async for step in app.astream(\n",
    "    {\"contents\": [doc.page_content for doc in split_docs]},\n",
    "    {\"recursion_limit\": 10},\n",
    "):\n",
    "    print(list(step.keys()))"
   ]
  },
  {
   "cell_type": "code",
   "execution_count": 31,
   "id": "b0b28b30-d12b-4a30-a0e2-f897adab68c9",
   "metadata": {},
   "outputs": [
    {
     "name": "stdout",
     "output_type": "stream",
     "text": [
      "{'generate_final_summary': {'final_summary': 'The consolidated summary of the main themes from the provided documents is as follows:\\n\\n1. **Integration of Large Language Models (LLMs) in Autonomous Agents**: The documents explore the evolving role of LLMs in autonomous systems, emphasizing their enhanced reasoning and acting capabilities through methodologies that incorporate structured planning, memory systems, and tool use.\\n\\n2. **Core Components of Autonomous Agents**:\\n   - **Planning**: Techniques like task decomposition (e.g., Chain of Thought) and external classical planners are utilized to facilitate long-term planning by breaking down complex tasks.\\n   - **Memory**: The memory system is divided into short-term (in-context learning) and long-term memory, with parallels drawn between human memory and machine learning to improve agent performance.\\n   - **Tool Use**: Agents utilize external APIs and algorithms to enhance problem-solving abilities, exemplified by frameworks like HuggingGPT that manage task workflows.\\n\\n3. **Neuro-Symbolic Architectures**: The integration of MRKL (Modular Reasoning, Knowledge, and Language) systems combines neural and symbolic expert modules with LLMs, addressing challenges in tasks such as verbal math problem-solving.\\n\\n4. **Specialized Applications**: Case studies, such as ChemCrow and projects in anticancer drug discovery, demonstrate the advantages of LLMs augmented with expert tools in specialized domains.\\n\\n5. **Challenges and Limitations**: The documents highlight challenges such as hallucination in model outputs and the finite context length of LLMs, which affects their ability to incorporate historical information and perform self-reflection. Techniques like Chain of Hindsight and Algorithm Distillation are discussed to enhance model performance through iterative learning.\\n\\n6. **Structured Software Development**: A systematic approach to creating Python software projects is emphasized, focusing on defining core components, managing dependencies, and adhering to best practices for documentation.\\n\\nOverall, the integration of structured planning, memory systems, and advanced tool use aims to enhance the capabilities of LLM-powered autonomous agents while addressing the challenges and limitations these technologies face in real-world applications.'}}\n"
     ]
    }
   ],
   "source": [
    "print(step)"
   ]
  },
  {
   "cell_type": "markdown",
   "id": "a9e33d11-7a2a-4693-8c87-88b88eebc896",
   "metadata": {},
   "source": [
    "在对应的 [LangSmith 追踪记录](https://smith.langchain.com/public/9d7b1d50-e1d6-44c9-9ab2-eabef621c883/r) 中，我们可以看到各个独立的LLM调用，它们按照各自的节点分组显示。\n",
    "\n",
    "### 深入探索\n",
    " \n",
    "**自定义**\n",
    "\n",
    "* 如上所示，您可以针对映射（map）和归约（reduce）阶段自定义大语言模型（LLMs）及提示词。\n",
    "\n",
    "**实际应用场景**\n",
    "\n",
    "* 查看[这篇博客文章](https://blog.langchain.dev/llms-to-improve-documentation/)中关于分析用户交互（针对LangChain文档的提问）的案例研究！\n",
    "* 这篇博客文章及相关的[代码库](https://github.com/mendableai/QA_clustering)还介绍了将聚类作为摘要生成的一种方法。\n",
    "* 这开辟了除`stuff`或`map-reduce`方法之外的另一条值得考虑的路径。\n",
    "\n",
    "![图片描述](../../static/img/summarization_use_case_3.png)"
   ]
  },
  {
   "cell_type": "markdown",
   "id": "e8680f94-c872-4d36-92e5-1462ffeb577d",
   "metadata": {},
   "source": [
    "## 后续步骤\n",
    "\n",
    "我们鼓励您查阅[操作指南](/docs/how_to)以获取以下方面的更多详细信息：\n",
    "\n",
    "- 其他摘要策略，例如[迭代优化](/docs/how_to/summarize_refine)\n",
    "- 内置的[文档加载器](/docs/how_to/#document-loaders)和[文本分割器](/docs/how_to/#text-splitters)\n",
    "- 将各种组合文档链集成到 [RAG 应用](/docs/tutorials/rag/) 中\n",
    "- 将检索功能整合到[聊天机器人](/docs/how_to/chatbots_retrieval/)中\n",
    "\n",
    "以及其他概念。"
   ]
  }
 ],
 "metadata": {
  "kernelspec": {
   "display_name": "llm",
   "language": "python",
   "name": "python3"
  },
  "language_info": {
   "codemirror_mode": {
    "name": "ipython",
    "version": 3
   },
   "file_extension": ".py",
   "mimetype": "text/x-python",
   "name": "python",
   "nbconvert_exporter": "python",
   "pygments_lexer": "ipython3",
   "version": "3.10.16"
  }
 },
 "nbformat": 4,
 "nbformat_minor": 5
}
