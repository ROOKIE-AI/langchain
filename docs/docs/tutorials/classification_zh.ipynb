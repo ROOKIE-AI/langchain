{
 "cells": [
  {
   "cell_type": "code",
   "execution_count": 3,
   "id": "cb6f552e-775f-4d84-bc7c-dca94c06a33c",
   "metadata": {},
   "outputs": [
    {
     "name": "stdout",
     "output_type": "stream",
     "text": [
      "Python 3.10.16\n",
      "chromadb                                 0.6.3\n",
      "cryptography                             44.0.2\n",
      "duckduckgo_search                        6.3.7\n",
      "langchain                                0.3.19\n",
      "langchain-chroma                         0.2.2\n",
      "langchain-community                      0.3.18\n",
      "langchain-core                           0.3.49\n",
      "langchain-deepseek                       0.1.3\n",
      "langchain-openai                         0.3.11\n",
      "langchain-text-splitters                 0.3.6\n",
      "langgraph                                0.3.21\n",
      "langgraph-checkpoint                     2.0.23\n",
      "langgraph-prebuilt                       0.1.7\n",
      "langgraph-sdk                            0.1.60\n",
      "langserve                                0.3.1\n",
      "langsmith                                0.3.8\n",
      "numpy                                    1.26.4\n",
      "openai                                   1.69.0\n",
      "scipy                                    1.15.2\n",
      "tiktoken                                 0.9.0\n"
     ]
    }
   ],
   "source": [
    "import sys\n",
    "from env_key_manager import APIKeyManager\n",
    "\n",
    "# 创建实例\n",
    "key_manager = APIKeyManager()\n",
    "\n",
    "# 设置环境变量\n",
    "key_manager.setup_api_key([\"DEEPSEEK_API_KEY\"])\n",
    "\n",
    "# 查看Python版本\n",
    "!python -V\n",
    "# 查看安装的库\n",
    "if 'win' in sys.platform.lower():\n",
    "    !pip list | findstr \"lang openai llm tiktoken chromadb cryptography duck unstructured numpy scipy\"\n",
    "else:\n",
    "    !pip list | grep -E 'lang|openai|llm|tiktoken|chromadb|cryptography|duck|unstructured|numpy|scipy'"
   ]
  },
  {
   "cell_type": "markdown",
   "id": "a0507a4b",
   "metadata": {},
   "source": [
    "[![在 Colab 中打开](https://colab.research.google.com/assets/colab-badge.svg)](https://colab.research.google.com/github/langchain-ai/langchain/blob/master/docs/docs/use_cases/tagging.ipynb)\n",
    "\n",
    "# 将文本分类为标签\n",
    "\n",
    "标记是指为文档添加类别标签，例如：\n",
    "\n",
    "- 情绪\n",
    "- 语言\n",
    "- 风格（正式、非正式等）\n",
    "- 涵盖主题\n",
    "- 政治倾向\n",
    "\n",
    "![图片描述](../../static/img/tagging.png)\n",
    "\n",
    "## 概述\n",
    "\n",
    "标签功能包含以下几个组成部分：\n",
    "\n",
    "* `function`（函数）：与[提取](/docs/tutorials/extraction)类似，标注功能通过[函数](https://openai.com/blog/function-calling-and-other-api-updates)来指定模型应如何对文档进行标注\n",
    "* `schema`: 定义我们想要如何标记文档\n",
    "\n",
    "## 快速入门\n",
    "\n",
    "让我们来看一个非常直接的示例，展示如何在LangChain中使用OpenAI的工具调用来进行标记。我们将使用OpenAI模型支持的[`with_structured_output`](/docs/how_to/structured_output)方法。"
   ]
  },
  {
   "cell_type": "code",
   "execution_count": null,
   "id": "dc5cbb6f",
   "metadata": {},
   "outputs": [],
   "source": [
    "# pip install --upgrade --quiet langchain-core"
   ]
  },
  {
   "cell_type": "markdown",
   "id": "cc2b7cdf-babb-46e2-98d0-302f69446842",
   "metadata": {},
   "source": [
    "我们需要加载一个[聊天模型](/docs/integrations/chat/)：\n",
    "\n",
    "import ChatModelTabs from \"@theme/ChatModelTabs\";\n",
    "\n",
    "<ChatModelTabs customVarName=\"llm\" />"
   ]
  },
  {
   "cell_type": "code",
   "execution_count": 4,
   "id": "608ee181-3f06-4719-842d-9672fdce6e57",
   "metadata": {},
   "outputs": [],
   "source": [
    "# | output: false\n",
    "# | echo: false\n",
    "\n",
    "from langchain_deepseek import ChatDeepSeek\n",
    "\n",
    "llm = ChatDeepSeek(model=\"deepseek-chat\")"
   ]
  },
  {
   "cell_type": "markdown",
   "id": "b8ca3f93",
   "metadata": {},
   "source": [
    "让我们在模式中指定一个带有若干属性及其预期类型的Pydantic模型。"
   ]
  },
  {
   "cell_type": "code",
   "execution_count": 5,
   "id": "39f3ce3e",
   "metadata": {},
   "outputs": [],
   "source": [
    "from langchain_core.prompts import ChatPromptTemplate\n",
    "from pydantic import BaseModel, Field\n",
    "\n",
    "tagging_prompt = ChatPromptTemplate.from_template(\n",
    "    \"\"\"\n",
    "从以下的文章中提取所需的信息。\n",
    "\n",
    "只提取'Classification'函数中提到的属性。\n",
    "\n",
    "文章：\n",
    "{input}\n",
    "\"\"\"\n",
    ")\n",
    "\n",
    "\n",
    "class Classification(BaseModel):\n",
    "    sentiment: str = Field(description=\"文本的情感\")\n",
    "    aggressiveness: int = Field(\n",
    "        description=\"文本的侵略性，按照1到10的比例\"\n",
    "    )\n",
    "    language: str = Field(description=\"文本所用的语言\")\n",
    "\n",
    "\n",
    "# LLM\n",
    "llm = ChatDeepSeek(temperature=0, model=\"deepseek-chat\").with_structured_output(\n",
    "    Classification\n",
    ")"
   ]
  },
  {
   "cell_type": "code",
   "execution_count": 6,
   "id": "5509b6a6",
   "metadata": {},
   "outputs": [
    {
     "data": {
      "text/plain": [
       "Classification(sentiment='非常高兴', aggressiveness=1, language='中文')"
      ]
     },
     "execution_count": 6,
     "metadata": {},
     "output_type": "execute_result"
    }
   ],
   "source": [
    "inp = \"我非常高兴认识你！我认为我们将成为非常好的朋友！\"\n",
    "prompt = tagging_prompt.invoke({\"input\": inp})\n",
    "response = llm.invoke(prompt)\n",
    "\n",
    "response"
   ]
  },
  {
   "cell_type": "markdown",
   "id": "ff3cf30d",
   "metadata": {},
   "source": [
    "如果我们想要字典形式的输出，只需调用 `.model_dump()` 即可"
   ]
  },
  {
   "cell_type": "code",
   "execution_count": 7,
   "id": "9154474c",
   "metadata": {},
   "outputs": [
    {
     "data": {
      "text/plain": [
       "{'sentiment': '生气', 'aggressiveness': 8, 'language': 'zh'}"
      ]
     },
     "execution_count": 7,
     "metadata": {},
     "output_type": "execute_result"
    }
   ],
   "source": [
    "inp = \"我非常生气你！我会给你应得的惩罚！\"\n",
    "prompt = tagging_prompt.invoke({\"input\": inp})\n",
    "response = llm.invoke(prompt)\n",
    "\n",
    "response.model_dump()"
   ]
  },
  {
   "cell_type": "markdown",
   "id": "d921bb53",
   "metadata": {},
   "source": [
    "从这些例子中可以看出，它准确理解了我们想要表达的内容。\n",
    "\n",
    "结果各不相同，因此我们可能会得到不同语言的情感表达（例如“positive”、“enojado”等）。\n",
    "\n",
    "我们将在下一节中了解如何控制这些结果。"
   ]
  },
  {
   "cell_type": "markdown",
   "id": "bebb2f83",
   "metadata": {},
   "source": [
    "## 更精细的控制\n",
    "\n",
    "谨慎的模式定义让我们能更好地控制模型的输出。\n",
    "\n",
    "具体而言，我们可以定义：\n",
    "\n",
    "- 每个属性的可能取值\n",
    "- 描述以确保模型理解该属性\n",
    "- 需要返回的必要属性"
   ]
  },
  {
   "cell_type": "markdown",
   "id": "69ef0b9a",
   "metadata": {},
   "source": [
    "让我们重新声明我们的Pydantic模型，通过枚举类型来控制前面提到的每个方面："
   ]
  },
  {
   "cell_type": "code",
   "execution_count": 8,
   "id": "6a5f7961",
   "metadata": {},
   "outputs": [],
   "source": [
    "class Classification(BaseModel):\n",
    "    sentiment: str = Field(..., enum=[\"高兴\", \"中立\", \"悲伤\"])\n",
    "    aggressiveness: int = Field(\n",
    "        ...,\n",
    "        description=\"描述语句的攻击性，数字越高攻击性越强\",\n",
    "        enum=[1, 2, 3, 4, 5],\n",
    "    )\n",
    "    language: str = Field(\n",
    "        ..., enum=[\"西班牙语\", \"英语\", \"法语\", \"德语\", \"意大利语\"]\n",
    "    )"
   ]
  },
  {
   "cell_type": "code",
   "execution_count": 10,
   "id": "e5a5881f",
   "metadata": {},
   "outputs": [],
   "source": [
    "tagging_prompt = ChatPromptTemplate.from_template(\n",
    "    \"\"\"\n",
    "从以下的文章中提取所需的信息。\n",
    "\n",
    "只提取'Classification'函数中提到的属性。\n",
    "\n",
    "文章：\n",
    "{input}\n",
    "\"\"\"\n",
    ")\n",
    "\n",
    "llm = ChatDeepSeek(temperature=0, model=\"deepseek-chat\").with_structured_output(\n",
    "    Classification\n",
    ")"
   ]
  },
  {
   "cell_type": "markdown",
   "id": "5ded2332",
   "metadata": {},
   "source": [
    "现在答案将按照我们预期的方式受到限制！"
   ]
  },
  {
   "cell_type": "code",
   "execution_count": 11,
   "id": "d9b9d53d",
   "metadata": {},
   "outputs": [
    {
     "data": {
      "text/plain": [
       "Classification(sentiment='高兴', aggressiveness=1, language='西班牙语')"
      ]
     },
     "execution_count": 11,
     "metadata": {},
     "output_type": "execute_result"
    }
   ],
   "source": [
    "inp = \"我非常高兴认识你！我相信我们会成为很好的朋友！\"\n",
    "prompt = tagging_prompt.invoke({\"input\": inp})\n",
    "llm.invoke(prompt)"
   ]
  },
  {
   "cell_type": "code",
   "execution_count": 12,
   "id": "1c12fa00",
   "metadata": {},
   "outputs": [
    {
     "data": {
      "text/plain": [
       "Classification(sentiment='悲伤', aggressiveness=5, language='西班牙语')"
      ]
     },
     "execution_count": 12,
     "metadata": {},
     "output_type": "execute_result"
    }
   ],
   "source": [
    "inp = \"我非常生气！我会让你付出代价的！\"\n",
    "prompt = tagging_prompt.invoke({\"input\": inp})\n",
    "llm.invoke(prompt)"
   ]
  },
  {
   "cell_type": "code",
   "execution_count": 13,
   "id": "0bdfcb05",
   "metadata": {},
   "outputs": [
    {
     "data": {
      "text/plain": [
       "Classification(sentiment='高兴', aggressiveness=1, language='西班牙语')"
      ]
     },
     "execution_count": 13,
     "metadata": {},
     "output_type": "execute_result"
    }
   ],
   "source": [
    "inp = \"这里的天气还不错，我可以只穿一件外套就出门了\"\n",
    "prompt = tagging_prompt.invoke({\"input\": inp})\n",
    "llm.invoke(prompt)"
   ]
  },
  {
   "cell_type": "markdown",
   "id": "cf6b7389",
   "metadata": {},
   "source": [
    "[LangSmith 追踪记录](https://smith.langchain.com/public/38294e04-33d8-4c5a-ae92-c2fe68be8332/r) 让我们得以一窥究竟：\n",
    "\n",
    "![图片描述](../../static/img/tagging_trace.png)"
   ]
  },
  {
   "cell_type": "markdown",
   "id": "29346d09",
   "metadata": {},
   "source": [
    "### 深入探索\n",
    "\n",
    "* 您可以使用[元数据标记器](/docs/integrations/document_transformers/openai_metadata_tagger)文档转换器从LangChain `Document`中提取元数据。\n",
    "* 这与标记链（tagging chain）的基本功能相同，只是应用于 LangChain 的 `Document`。"
   ]
  }
 ],
 "metadata": {
  "kernelspec": {
   "display_name": "llm",
   "language": "python",
   "name": "python3"
  },
  "language_info": {
   "codemirror_mode": {
    "name": "ipython",
    "version": 3
   },
   "file_extension": ".py",
   "mimetype": "text/x-python",
   "name": "python",
   "nbconvert_exporter": "python",
   "pygments_lexer": "ipython3",
   "version": "3.10.16"
  }
 },
 "nbformat": 4,
 "nbformat_minor": 5
}
