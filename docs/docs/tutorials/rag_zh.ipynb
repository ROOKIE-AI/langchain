{
 "cells": [
  {
   "cell_type": "code",
   "execution_count": 3,
   "id": "204e86c8",
   "metadata": {},
   "outputs": [
    {
     "name": "stdout",
     "output_type": "stream",
     "text": [
      "Python 3.10.16\n",
      "chromadb                                 0.6.3\n",
      "cryptography                             44.0.2\n",
      "duckduckgo_search                        6.3.7\n",
      "langchain                                0.3.21\n",
      "langchain-chroma                         0.2.2\n",
      "langchain-community                      0.3.20\n",
      "langchain-core                           0.3.49\n",
      "langchain-deepseek                       0.1.3\n",
      "langchain-openai                         0.3.11\n",
      "langchain-text-splitters                 0.3.7\n",
      "langgraph                                0.3.21\n",
      "langgraph-checkpoint                     2.0.23\n",
      "langgraph-prebuilt                       0.1.7\n",
      "langgraph-sdk                            0.1.60\n",
      "langserve                                0.3.1\n",
      "langsmith                                0.3.8\n",
      "numpy                                    1.26.4\n",
      "openai                                   1.69.0\n",
      "scipy                                    1.15.2\n",
      "tiktoken                                 0.9.0\n"
     ]
    }
   ],
   "source": [
    "import sys\n",
    "import os\n",
    "from IPython.display import Markdown\n",
    "from env_key_manager import APIKeyManager\n",
    "\n",
    "# 创建实例\n",
    "key_manager = APIKeyManager()\n",
    "\n",
    "# 设置环境变量\n",
    "key_manager.setup_api_key([\"OPENAI_API_KEY\", \"OPENAI_BASE_URL\", \"LANGSMITH_ENDPOINT\", \"LANGSMITH_API_KEY\", \"LANGSMITH_PROJECT\"])\n",
    "\n",
    "os.environ['LANGSMITH_TRACING'] = \"true\"\n",
    "\n",
    "# 查看Python版本\n",
    "!python -V\n",
    "# 查看安装的库\n",
    "if 'win' in sys.platform.lower():\n",
    "    !pip list | findstr \"lang openai llm tiktoken chromadb cryptography duck unstructured numpy scipy\"\n",
    "else:\n",
    "    !pip list | grep -E \"lang|openai|llm|tiktoken|chromadb|cryptography|duck|unstructured|numpy|scipy\""
   ]
  },
  {
   "cell_type": "markdown",
   "id": "5630b0ca",
   "metadata": {},
   "source": [
    "# 构建检索增强生成（RAG）应用：第一部分\n",
    "\n",
    "大型语言模型（LLMs）最强大的应用之一是复杂的问答（Q&A）聊天机器人。这类应用能够回答关于特定源信息的问题。它们采用了一种称为检索增强生成（Retrieval Augmented Generation，简称[RAG](/docs/concepts/rag/)）的技术。\n",
    "\n",
    "这是一个多部分教程：\n",
    "\n",
    "- [第一部分](/docs/tutorials/rag)（本指南）介绍RAG并逐步演示一个最小化实现方案。\n",
    "- [第二部分](/docs/tutorials/qa_chat_history) 扩展了实现功能，以支持对话式交互和多步骤检索流程。\n",
    "\n",
    "本教程将展示如何构建一个简单的问答应用程序\n",
    "在处理文本数据源的过程中，我们将逐步讲解一个典型的问答流程。\n",
    "架构并重点介绍更多高级问答技术的额外资源。我们还将看到\n",
    "LangSmith 如何帮助我们追踪和理解应用程序。\n",
    "随着我们应用程序的不断发展，LangSmith将变得越来越有用\n",
    "复杂性。\n",
    "\n",
    "如果您已经熟悉基础检索，您可能还会对以下内容感兴趣：\n",
    "这篇[不同检索技术的高级概述](/docs/concepts/retrieval)\n",
    "\n",
    "**注意**：这里我们主要关注非结构化数据的问答。如果您对基于结构化数据的检索增强生成（RAG）感兴趣，请参阅我们关于[SQL数据问答](/docs/tutorials/sql_qa)的教程。\n",
    "\n",
    "## 概述\n",
    "一个典型的RAG应用包含两个主要组件：\n",
    "\n",
    "**索引**：一个用于从数据源摄取数据并建立索引的流水线。*这一过程通常是离线进行的。*\n",
    "\n",
    "**检索与生成**：实际的RAG链式流程，在运行时接收用户查询并从索引中检索相关数据，随后将其传递给模型。\n",
    "\n",
    "注意：本教程的索引部分将主要遵循[语义搜索教程](/docs/tutorials/retrievers)的内容。\n",
    "\n",
    "从原始数据到答案最常见的完整流程如下：\n",
    "\n",
    "### 索引\n",
    "1. **加载**：首先我们需要加载数据。这可以通过[文档加载器](/docs/concepts/document_loaders)来完成。\n",
    "2. **分割**：[文本分割器](/docs/concepts/text_splitters)将大型`文档`拆分为更小的片段。这对数据索引和模型输入都非常有用，因为大片段更难检索，且无法适配模型的有限上下文窗口。\n",
    "3. **存储**：我们需要一个地方来存储和索引分割后的内容，以便后续进行搜索。这通常通过[向量数据库](/docs/concepts/vectorstores)和[嵌入模型](/docs/concepts/embedding_models)来实现。\n",
    "\n",
    "![索引示意图](../../static/img/rag_indexing.png)\n",
    "\n",
    "### 检索与生成\n",
    "4. **检索**：根据用户输入，使用[检索器](/docs/concepts/retrievers)从存储中获取相关的拆分内容。\n",
    "5. **生成**：一个[聊天模型](/docs/concepts/chat_models) / [大语言模型](/docs/concepts/text_llms)通过包含问题及检索数据的提示词来生成答案\n",
    "\n",
    "![检索示意图](../../static/img/rag_retrieval_generation.png)\n",
    "\n",
    "索引完数据后，我们将使用 [LangGraph](https://langchain-ai.github.io/langgraph/) 作为编排框架来实现检索和生成步骤。\n",
    "\n",
    "## 安装\n",
    "\n",
    "### Jupyter Notebook\n",
    "\n",
    "本教程及其他教程或许在 [Jupyter notebooks](https://jupyter.org/) 中运行最为便捷。在交互式环境中学习指南是深入理解它们的绝佳方式。安装方法请参阅 [此处](https://jupyter.org/install)。\n",
    "\n",
    "### 安装\n",
    "\n",
    "本教程需要以下langchain依赖项：\n",
    "\n",
    "import Tabs from '@theme/Tabs';\n",
    "import TabItem from '@theme/TabItem';\n",
    "import CodeBlock from \"@theme/CodeBlock\";\n",
    "\n",
    "<Tabs>\n",
    "  <TabItem value=\"pip\" label=\"Pip\" default>\n",
    "  "
   ]
  },
  {
   "cell_type": "code",
   "execution_count": 2,
   "id": "1918ba2f",
   "metadata": {},
   "outputs": [
    {
     "name": "stdout",
     "output_type": "stream",
     "text": [
      "Note: you may need to restart the kernel to use updated packages.\n"
     ]
    },
    {
     "name": "stderr",
     "output_type": "stream",
     "text": [
      "WARNING: Retrying (Retry(total=4, connect=None, read=None, redirect=None, status=None)) after connection broken by 'SSLError(SSLEOFError(8, '[SSL: UNEXPECTED_EOF_WHILE_READING] EOF occurred in violation of protocol (_ssl.c:1007)'))': /simple/langchain-text-splitters/\n"
     ]
    }
   ],
   "source": [
    "%pip install --quiet --upgrade langchain-text-splitters langchain-community langgraph"
   ]
  },
  {
   "cell_type": "markdown",
   "id": "9ff1b425",
   "metadata": {},
   "source": [
    "  </TabItem>\n",
    "  <TabItem value=\"conda\" label=\"Conda\">\n",
    "<CodeBlock language=\"bash\">conda install langchain-text-splitters langchain-community langgraph -c conda-forge</CodeBlock>\n",
    "  </TabItem>\n",
    "</Tabs>\n",
    "\n",
    "\n",
    "更多详情，请参阅我们的[安装指南](/docs/how_to/installation)。\n",
    "\n",
    "### LangSmith\n",
    "\n",
    "使用LangChain构建的许多应用程序将包含多个步骤，涉及多次LLM调用。\n",
    "随着这些应用变得越来越复杂，能够检查链或代理内部的具体运行情况变得至关重要。\n",
    "最佳实践是使用 [LangSmith](https://smith.langchain.com)。\n",
    "\n",
    "在以上链接完成注册后，请确保设置环境变量以开始记录追踪数据：\n",
    "\n",
    "```shell\n",
    "export LANGSMITH_TRACING=\"true\"\n",
    "export LANGSMITH_API_KEY=\"...\"\n",
    "```\n",
    "\n",
    "```python\n",
    "import getpass\n",
    "import os\n",
    "\n",
    "os.environ[\"LANGSMITH_TRACING\"] = \"true\"\n",
    "os.environ[\"LANGSMITH_API_KEY\"] = getpass.getpass()\n",
    "```\n",
    "\n",
    "## 组件\n",
    "\n",
    "我们需要从LangChain的集成套件中选择三个组件。\n",
    "\n",
    "import ChatModelTabs from \"@theme/ChatModelTabs\";\n",
    "\n",
    "<ChatModelTabs customVarName=\"llm\" />"
   ]
  },
  {
   "cell_type": "code",
   "execution_count": 4,
   "id": "26ef9d35",
   "metadata": {},
   "outputs": [],
   "source": [
    "# | output: false\n",
    "# | echo: false\n",
    "\n",
    "from langchain_openai import ChatOpenAI\n",
    "\n",
    "llm = ChatOpenAI(model=\"gpt-4o-mini\")"
   ]
  },
  {
   "cell_type": "markdown",
   "id": "f1b78672-f21e-4827-843e-59514d18ca20",
   "metadata": {},
   "source": [
    "import EmbeddingTabs from \"@theme/EmbeddingTabs\";\n",
    "\n",
    "<EmbeddingTabs/>"
   ]
  },
  {
   "cell_type": "code",
   "execution_count": 5,
   "id": "a199c764-5dfd-45cf-a4d4-731f2c3d474f",
   "metadata": {},
   "outputs": [],
   "source": [
    "# | output: false\n",
    "# | echo: false\n",
    "\n",
    "from langchain_openai import OpenAIEmbeddings\n",
    "\n",
    "embeddings = OpenAIEmbeddings()"
   ]
  },
  {
   "cell_type": "markdown",
   "id": "859ffca8-055e-4f5a-95fe-55906ed1d63f",
   "metadata": {},
   "source": [
    "import VectorStoreTabs from \"@theme/VectorStoreTabs\";\n",
    "\n",
    "<VectorStoreTabs/>"
   ]
  },
  {
   "cell_type": "code",
   "execution_count": 6,
   "id": "f4db6b46-ea3f-4994-9d54-d7c84beb50cc",
   "metadata": {},
   "outputs": [],
   "source": [
    "# | output: false\n",
    "# | echo: false\n",
    "\n",
    "from langchain_core.vectorstores import InMemoryVectorStore # InMemoryVectorStore: 用于存储向量的内存存储器\n",
    "\n",
    "vector_store = InMemoryVectorStore(embeddings)"
   ]
  },
  {
   "cell_type": "markdown",
   "id": "93b2d316-922c-4318-b72d-486fd6813b94",
   "metadata": {},
   "source": [
    "## 预览\n",
    "\n",
    "在本指南中，我们将构建一个能够回答有关网站内容问题的应用程序。我们将使用的具体网站是[LLM驱动的自主\n",
    "[智能体](https://lilianweng.github.io/posts/2023-06-23-agent/) 博客文章\n",
    "作者 Lilian Weng 的研究成果使我们能够针对内容提出问题\n",
    "帖子。\n",
    "\n",
    "我们可以创建一个简单的索引管道和RAG链来实现这一点，代码量约50行\n",
    "代码行数。\n",
    "\n",
    "```python\n",
    "import bs4\n",
    "from langchain import hub\n",
    "from langchain_community.document_loaders import WebBaseLoader\n",
    "from langchain_core.documents import Document\n",
    "from langchain_text_splitters import RecursiveCharacterTextSplitter\n",
    "from langgraph.graph import START, StateGraph\n",
    "from typing_extensions import List, TypedDict\n",
    "\n",
    "# 加载并分块处理博客内容\n",
    "loader = WebBaseLoader(\n",
    "web_paths=(\"https://lilianweng.github.io/posts/2023-06-23-agent/\",),\n",
    "bs_kwargs=字典(\n",
    "parse_only=bs4.SoupStrainer(\n",
    "class_=(\"文章内容\", \"文章标题\", \"文章头部\")\n",
    ")\n",
    ")\n",
    "docs = loader.load()\n",
    "\n",
    "text_splitter = RecursiveCharacterTextSplitter(chunk_size=1000, chunk_overlap=200)\n",
    "all_splits = text_splitter.split_documents(docs)\n",
    "\n",
    "# 索引块\n",
    "_ = vector_store.add_documents(documents=all_splits)\n",
    "\n",
    "# 定义问答提示\n",
    "prompt = hub.pull(\"rlm/rag-prompt\")\n",
    "\n",
    "\n",
    "# 定义应用程序状态\n",
    "class State(TypedDict):\n",
    "    question: str\n",
    "    context: List[Document]\n",
    "    answer: str\n",
    "\n",
    "# 定义应用步骤\n",
    "def retrieve(state: State):\n",
    "    retrieved_docs = vector_store.similarity_search(state[\"question\"])\n",
    "    return {\"context\": retrieved_docs}\n",
    "\n",
    "def generate(state: State):\n",
    "    docs_content = \"\\n\\n\".join(doc.page_content for doc in state[\"context\"])\n",
    "    messages = prompt.invoke({\"question\": state[\"question\"], \"context\": docs_content})\n",
    "    response = llm.invoke(messages)\n",
    "    return {\"answer\": response.content}\n",
    "\n",
    "\n",
    "# 编译应用程序和测试\n",
    "graph_builder = StateGraph(State).add_sequence([retrieve, generate])\n",
    "graph_builder.add_edge(START, \"retrieve\")\n",
    "graph = graph_builder.compile()\n",
    "\n",
    "response = graph.invoke({\"question\": \"什么是任务分解？\"})\n",
    "print(response[\"answer\"])\n",
    "```"
   ]
  },
  {
   "cell_type": "markdown",
   "id": "9ff8204b-dabc-4790-80ea-50d4cf4fceb0",
   "metadata": {},
   "source": [
    "查看 [LangSmith 文档](https://docs.smith.langchain.com/) 了解更多信息。\n",
    "[追踪](https://smith.langchain.com/public/65030797-7efa-4356-a7bd-b54b3dc70e17/r)"
   ]
  },
  {
   "cell_type": "markdown",
   "id": "efa9ea6a-f914-4f50-8e35-52e6c34b8001",
   "metadata": {},
   "source": [
    "## 详细步骤说明\n",
    "\n",
    "让我们逐步解析上述代码，以真正理解其\n",
    "正在进行中。\n",
    "\n",
    "## 1. 索引 {#indexing}\n",
    "\n",
    ":::note\n",
    "\n",
    "本节是[语义搜索教程](/docs/tutorials/retrievers)中内容的精简版本。\n",
    "如果您熟悉[文档加载器](/docs/concepts/document_loaders)、[嵌入模型](/docs/concepts/embedding_models)和[向量数据库](/docs/concepts/vectorstores)的使用，\n",
    "请随时跳转到下一节：[检索与生成](/docs/tutorials/rag/#orchestration)。\n",
    "\n",
    ":::\n",
    "\n",
    "### 加载文档\n",
    "\n",
    "我们需要先加载博客文章内容。可以使用\n",
    "[文档加载器](/docs/concepts/document_loaders)\n",
    "为此，这些对象从数据源加载数据并返回一个\n",
    "列表\n",
    "[文档](https://python.langchain.com/api_reference/core/documents/langchain_core.documents.base.Document.html)\n",
    "对象。\n",
    "\n",
    "在这种情况下，我们将使用\n",
    "[WebBaseLoader](/docs/integrations/document_loaders/web_base),\n",
    "它使用 `urllib` 从网页 URL 加载 HTML，并使用 `BeautifulSoup` 来\n",
    "解析为文本。我们可以通过传递参数来自定义 HTML 到文本的解析方式\n",
    "通过 `bs_kwargs` 将参数传入 `BeautifulSoup` 解析器（参见\n",
    "[BeautifulSoup](https://www.crummy.com/software/BeautifulSoup/)\n",
    "文档](https://beautiful-soup-4.readthedocs.io/en/latest/#beautifulsoup)。\n",
    "在这种情况下，仅包含类名为“post-content”、“post-title”或\n",
    "“post-header”是相关的，因此我们将移除所有其他内容。"
   ]
  },
  {
   "cell_type": "code",
   "execution_count": 8,
   "id": "7b0971b5-8579-4a89-bd2e-9029dda4c4f1",
   "metadata": {},
   "outputs": [
    {
     "name": "stdout",
     "output_type": "stream",
     "text": [
      "总字符数: 43130\n"
     ]
    }
   ],
   "source": [
    "import bs4\n",
    "from langchain_community.document_loaders import WebBaseLoader\n",
    "\n",
    "# 只保留全HTML中的文章标题、头部和内容。\n",
    "bs4_strainer = bs4.SoupStrainer(class_=(\"post-title\", \"post-header\", \"post-content\"))\n",
    "loader = WebBaseLoader(\n",
    "    web_paths=(\"https://lilianweng.github.io/posts/2023-06-23-agent/\",),\n",
    "    bs_kwargs={\"parse_only\": bs4_strainer},\n",
    ")\n",
    "docs = loader.load()\n",
    "\n",
    "assert len(docs) == 1\n",
    "print(f\"总字符数: {len(docs[0].page_content)}\")"
   ]
  },
  {
   "cell_type": "code",
   "execution_count": 9,
   "id": "1a560025-fb86-4b7e-9586-da263bbad481",
   "metadata": {},
   "outputs": [
    {
     "name": "stdout",
     "output_type": "stream",
     "text": [
      "\n",
      "\n",
      "      LLM Powered Autonomous Agents\n",
      "    \n",
      "Date: June 23, 2023  |  Estimated Reading Time: 31 min  |  Author: Lilian Weng\n",
      "\n",
      "\n",
      "Building agents with LLM (large language model) as its core controller is a cool concept. Several proof-of-concepts demos, such as AutoGPT, GPT-Engineer and BabyAGI, serve as inspiring examples. The potentiality of LLM extends beyond generating well-written copies, stories, essays and programs; it can be framed as a powerful general problem solver.\n",
      "Agent System Overview#\n",
      "In\n"
     ]
    }
   ],
   "source": [
    "print(docs[0].page_content[:500])"
   ]
  },
  {
   "cell_type": "markdown",
   "id": "e6f11795-e19f-4697-bc6e-6d477355a1cd",
   "metadata": {},
   "source": [
    "#### 深入探索\n",
    "\n",
    "`DocumentLoader`：一种对象，用于从数据源加载内容并将其转换为`Documents`列表。\n",
    "\n",
    "- [文档](/docs/how_to#document-loaders):\n",
    "关于如何使用 `DocumentLoaders` 的详细文档\n",
    "- [集成](/docs/integrations/document_loaders/)：160+\n",
    "可供选择的集成方案。\n",
    "- [接口](https://python.langchain.com/api_reference/core/document_loaders/langchain_core.document_loaders.base.BaseLoader.html):\n",
    "基础接口的API参考。\n",
    "\n",
    "### 文档分割\n",
    "\n",
    "我们的加载文档已超过42,000个字符，内容过长无法完整显示\n",
    "许多模型的上下文窗口内。即便是对于那些能够\n",
    "在上下文中完整适配整篇帖子时，模型可能难以准确捕捉\n",
    "超长输入中的信息。\n",
    "\n",
    "为了解决这个问题，我们将把 `Document` 分割成多个块进行嵌入处理，\n",
    "向量存储。这应有助于我们仅检索最相关的部分\n",
    "在博客文章运行时。\n",
    "\n",
    "与[语义搜索教程](/docs/tutorials/retrievers)中一样，我们使用了\n",
    "[递归字符文本分割器](/docs/how_to/recursive_text_splitter)\n",
    "这将递归地使用常见分隔符来分割文档\n",
    "在确保每个数据块大小合适之前持续添加新行。这是\n",
    "适用于通用文本场景的推荐文本分割器。"
   ]
  },
  {
   "cell_type": "code",
   "execution_count": 10,
   "id": "753e1484-e21b-4f62-9866-b3a5971f88a7",
   "metadata": {},
   "outputs": [
    {
     "name": "stdout",
     "output_type": "stream",
     "text": [
      "将博客文章拆分为66个子文档。\n"
     ]
    }
   ],
   "source": [
    "from langchain_text_splitters import RecursiveCharacterTextSplitter\n",
    "\n",
    "text_splitter = RecursiveCharacterTextSplitter(\n",
    "    chunk_size=1000,  # 块大小（字符）\n",
    "    chunk_overlap=200,  # 块重叠（字符）\n",
    "    add_start_index=True,  # 在原始文档中跟踪索引\n",
    ")\n",
    "all_splits = text_splitter.split_documents(docs)\n",
    "\n",
    "print(f\"将博客文章拆分为{len(all_splits)}个子文档。\")"
   ]
  },
  {
   "cell_type": "markdown",
   "id": "f5193e01-6cf1-45b9-9ba5-38caf75162a6",
   "metadata": {},
   "source": [
    "#### 深入探索\n",
    "\n",
    "`TextSplitter`：用于将`Document`列表拆分为更小部分的对象\n",
    "块。`DocumentTransformer` 的子类。\n",
    "\n",
    "- 通过阅读[操作指南文档](/docs/how_to#text-splitters)，了解更多关于使用不同方法拆分文本的信息\n",
    "- [代码（Python 或 JavaScript）](/docs/integrations/document_loaders/source_code)\n",
    "- [科学论文](/docs/integrations/document_loaders/grobid)\n",
    "- [接口](https://python.langchain.com/api_reference/text_splitters/base/langchain_text_splitters.base.TextSplitter.html): 基础接口的API参考文档。\n",
    "\n",
    "`DocumentTransformer`：对列表执行转换操作的对象\n",
    "由 `Document` 对象组成的集合。\n",
    "\n",
    "- [文档](/docs/how_to#text-splitters): 关于如何使用 `DocumentTransformers` 的详细文档\n",
    "- [集成](/docs/integrations/document_transformers/)\n",
    "- [接口](https://python.langchain.com/api_reference/core/documents/langchain_core.documents.transformers.BaseDocumentTransformer.html): 基础接口的API参考文档。\n",
    "\n",
    "### 存储文档\n",
    "\n",
    "现在我们需要为66个文本块建立索引，以便能够对它们进行搜索\n",
    "在运行时。按照[语义搜索教程](/docs/tutorials/retrievers)进行操作，\n",
    "我们的方法是将每个文档分割的内容[嵌入](/docs/concepts/embedding_models/)，并插入这些嵌入向量\n",
    "存入[向量存储](/docs/concepts/vectorstores/)。给定输入查询后，我们便可利用\n",
    "向量搜索以检索相关文档。\n",
    "\n",
    "我们可以通过一条命令嵌入并存储所有文档分割内容\n",
    "使用在[教程开始](/docs/tutorials/rag/#components)时选择的向量存储和嵌入模型。"
   ]
  },
  {
   "cell_type": "code",
   "execution_count": 11,
   "id": "00d455e1-c681-4665-9470-58dbeca050d4",
   "metadata": {},
   "outputs": [
    {
     "name": "stdout",
     "output_type": "stream",
     "text": [
      "['4941b579-5bfb-4575-a95d-f9d6f12508dd', 'ce3b4b58-c034-4f91-a96c-6a07eef26b0a', 'dbd8b9a2-ebd9-4726-9ed6-59873c40c3d5']\n"
     ]
    }
   ],
   "source": [
    "# 将所有拆分的文档添加到向量存储器中\n",
    "document_ids = vector_store.add_documents(documents=all_splits)\n",
    "\n",
    "print(document_ids[:3])"
   ]
  },
  {
   "cell_type": "markdown",
   "id": "57666234-a5b3-4abc-b079-755241bb2b98",
   "metadata": {},
   "source": [
    "#### 深入探索\n",
    "\n",
    "`Embeddings`: 围绕文本嵌入模型的封装器，用于转换\n",
    "文本到嵌入向量。\n",
    "\n",
    "- [文档](/docs/how_to/embed_text): 关于如何使用嵌入的详细文档。\n",
    "- [集成](/docs/integrations/text_embedding/)：提供30多种集成方案供选择。\n",
    "- [接口](https://python.langchain.com/api_reference/core/embeddings/langchain_core.embeddings.Embeddings.html): 基础接口的API参考文档。\n",
    "\n",
    "`VectorStore`：向量数据库的封装器，用于存储和\n",
    "查询嵌入向量。\n",
    "\n",
    "- [文档](/docs/how_to/vectorstores): 关于如何使用向量存储的详细文档。\n",
    "- [集成](/docs/integrations/vectorstores/)：提供40多种集成方案供选择。\n",
    "- [接口](https://python.langchain.com/api_reference/core/vectorstores/langchain_core.vectorstores.base.VectorStore.html): 基础接口的API参考文档。\n",
    "\n",
    "至此，流水线的**索引构建**部分已完成。此时\n",
    "我们拥有一个可查询的向量存储库，其中包含经过分块处理的内容\n",
    "博客文章。针对用户提出的问题，我们理想情况下应当能够返回\n",
    "博客文章中回答该问题的片段。\n",
    "\n",
    "## 2. 检索与生成 {#orchestration}\n",
    "\n",
    "现在让我们来编写实际的应用程序逻辑。我们想要创建一个简单的\n",
    "一款接收用户问题、搜索相关文档的应用程序\n",
    "对于该问题，将检索到的文档和初始问题传递给\n",
    "一个模型，并返回一个答案。\n",
    "\n",
    "在生成阶段，我们将使用[教程开头](/docs/tutorials/rag/#components)选定的聊天模型。\n",
    "\n",
    "我们将使用一个已提交至LangChain提示中心的RAG提示模板\n",
    "([此处](https://smith.langchain.com/hub/rlm/rag-prompt))。"
   ]
  },
  {
   "cell_type": "code",
   "execution_count": 12,
   "id": "46f378c5-858c-488f-8aef-8b59a6280791",
   "metadata": {},
   "outputs": [
    {
     "name": "stdout",
     "output_type": "stream",
     "text": [
      "You are an assistant for question-answering tasks. Use the following pieces of retrieved context to answer the question. If you don't know the answer, just say that you don't know. Use three sentences maximum and keep the answer concise.\n",
      "Question: （问题在这里） \n",
      "Context: （上下文在这里） \n",
      "Answer:\n"
     ]
    }
   ],
   "source": [
    "from langchain import hub\n",
    "\n",
    "prompt = hub.pull(\"rlm/rag-prompt\")\n",
    "\n",
    "example_messages = prompt.invoke(\n",
    "    {\"context\": \"（上下文在这里）\", \"question\": \"（问题在这里）\"}\n",
    ").to_messages()\n",
    "\n",
    "assert len(example_messages) == 1\n",
    "print(example_messages[0].content)"
   ]
  },
  {
   "cell_type": "markdown",
   "id": "77dfe84d-cc19-4227-bee4-56b69508ab11",
   "metadata": {},
   "source": [
    "我们将使用 [LangGraph](https://langchain-ai.github.io/langgraph/) 将检索和生成步骤整合到一个应用程序中。这将带来诸多优势：\n",
    "\n",
    "- 我们可以一次性定义应用逻辑，并自动支持多种调用模式，包括流式调用、异步调用和批量调用。\n",
    "- 我们通过 [LangGraph 平台](https://langchain-ai.github.io/langgraph/concepts/langgraph_platform/) 实现了简化的部署流程。\n",
    "- LangSmith 会自动追踪我们应用程序的各个步骤。\n",
    "- 我们可以轻松地为应用程序添加关键功能，包括[持久化](https://langchain-ai.github.io/langgraph/concepts/persistence/)和[人工介入审批](https://langchain-ai.github.io/langgraph/concepts/human_in_the_loop/)，只需进行最少的代码改动。\n",
    "\n",
    "要使用LangGraph，我们需要定义以下三件事：\n",
    "\n",
    "1. 我们应用程序的状态；\n",
    "2. 我们应用程序的节点（即应用步骤）；\n",
    "3. 应用程序的“控制流”（例如各步骤的执行顺序）。\n",
    "\n",
    "#### 状态:\n",
    "\n",
    "我们应用程序的[状态](https://langchain-ai.github.io/langgraph/concepts/low_level/#state)控制着哪些数据被输入到应用程序、在步骤之间传递以及由应用程序输出。它通常是一个`TypedDict`，但也可以是一个[Pydantic BaseModel](https://langchain-ai.github.io/langgraph/how-tos/state-model/)。\n",
    "\n",
    "对于一个简单的RAG应用，我们只需记录输入问题、检索到的上下文和生成的答案："
   ]
  },
  {
   "cell_type": "code",
   "execution_count": 13,
   "id": "3bdc7c33-67f4-40c3-a0f5-9b846bc6e35c",
   "metadata": {},
   "outputs": [],
   "source": [
    "from langchain_core.documents import Document\n",
    "from typing_extensions import List, TypedDict\n",
    "\n",
    "\n",
    "class State(TypedDict):\n",
    "    question: str\n",
    "    context: List[Document]\n",
    "    answer: str"
   ]
  },
  {
   "cell_type": "markdown",
   "id": "77868d9a-892f-4b2c-b706-850f96b4464f",
   "metadata": {},
   "source": [
    "#### 节点（应用步骤）\n",
    "\n",
    "让我们从一个简单的两步序列开始：检索与生成。"
   ]
  },
  {
   "cell_type": "code",
   "execution_count": 14,
   "id": "bdabbf44-cbee-46a4-98e4-794fdfc8bb3b",
   "metadata": {},
   "outputs": [],
   "source": [
    "def retrieve(state: State):\n",
    "    \"\"\"检索相关文档\"\"\"\n",
    "    retrieved_docs = vector_store.similarity_search(state[\"question\"])\n",
    "    return {\"context\": retrieved_docs}\n",
    "\n",
    "\n",
    "def generate(state: State):\n",
    "    \"\"\"生成答案\"\"\"\n",
    "    docs_content = \"\\n\\n\".join(doc.page_content for doc in state[\"context\"])\n",
    "    messages = prompt.invoke({\"question\": state[\"question\"], \"context\": docs_content})\n",
    "    response = llm.invoke(messages)\n",
    "    return {\"answer\": response.content}"
   ]
  },
  {
   "cell_type": "markdown",
   "id": "d1ac9dc3-d73d-48c3-be05-4b60e0b8bc17",
   "metadata": {},
   "source": [
    "我们的检索步骤仅使用输入问题进行相似性搜索，而生成步骤则将检索到的上下文和原始问题格式化为聊天模型的提示。\n",
    "\n",
    "#### 控制流程\n",
    "\n",
    "最后，我们将应用程序编译为一个单一的 `graph` 对象。在本例中，我们只是将检索和生成步骤连接成一个单一的序列。"
   ]
  },
  {
   "cell_type": "code",
   "execution_count": 15,
   "id": "418ddefb-9a1d-42bf-9d23-e525268312a4",
   "metadata": {},
   "outputs": [],
   "source": [
    "from langgraph.graph import START, StateGraph\n",
    "\n",
    "graph_builder = StateGraph(State).add_sequence([retrieve, generate])\n",
    "graph_builder.add_edge(START, \"retrieve\") # 添加边\n",
    "graph = graph_builder.compile()"
   ]
  },
  {
   "cell_type": "markdown",
   "id": "20b127f4-8411-4214-8cdd-a281771ab708",
   "metadata": {},
   "source": [
    "LangGraph 还内置了可视化应用程序控制流程的实用工具："
   ]
  },
  {
   "cell_type": "code",
   "execution_count": 16,
   "id": "feabc04f-b509-4452-8e2b-d7c7b7585a18",
   "metadata": {},
   "outputs": [
    {
     "data": {
      "image/png": "[encoded data removed]",
      "text/plain": [
       "<IPython.core.display.Image object>"
      ]
     },
     "metadata": {},
     "output_type": "display_data"
    }
   ],
   "source": [
    "from IPython.display import Image, display\n",
    "\n",
    "display(Image(graph.get_graph().draw_mermaid_png()))"
   ]
  },
  {
   "cell_type": "markdown",
   "id": "31f7dc4d-cac8-4be9-b44c-df097dc28c81",
   "metadata": {},
   "source": [
    "<details>\n",
    "<summary>我需要使用LangGraph吗？</summary>\n",
    "\n",
    "构建RAG应用并不一定需要LangGraph。实际上，我们可以通过单独调用各个组件来实现相同的应用逻辑。\n",
    "\n",
    "```python\n",
    "question = \"...\"\n",
    "\n",
    "retrieved_docs = vector_store.similarity_search(question)\n",
    "docs_content = \"\\n\\n\".join(doc.page_content for doc in retrieved_docs)\n",
    "prompt = prompt.invoke({\"question\": question, \"context\": docs_content})\n",
    "answer = llm.invoke(prompt)\n",
    "```\n",
    "LangGraph 的优势包括：\n",
    "\n",
    "- 支持多种调用模式：若需实现输出令牌流式传输或分步结果流式传输，当前逻辑需重新编写；\n",
    "- 通过 [LangSmith](https://docs.smith.langchain.com/) 自动支持追踪功能，并通过 [LangGraph Platform](https://langchain-ai.github.io/langgraph/concepts/langgraph_platform/) 实现部署；\n",
    "- 支持持久化、人在回路（human-in-the-loop）及其他特性。\n",
    "\n",
    "许多应用场景需要在对话体验中实现检索增强生成（RAG），以便用户通过有状态的对话获取基于上下文的回答。正如我们将在教程[第二部分](/docs/tutorials/qa_chat_history)中看到的，LangGraph对状态的管理和持久化功能极大地简化了这类应用的开发。\n",
    "\n",
    "</details>"
   ]
  },
  {
   "cell_type": "markdown",
   "id": "eee9c057-5a08-46a3-8c7d-6a314d1e777d",
   "metadata": {},
   "source": [
    "#### 使用方法\n",
    "\n",
    "让我们来测试我们的应用程序！LangGraph 支持多种调用模式，包括同步、异步和流式处理。\n",
    "\n",
    "调用："
   ]
  },
  {
   "cell_type": "code",
   "execution_count": 17,
   "id": "663b93ba-f0a7-44c4-a894-fe895bd5b009",
   "metadata": {},
   "outputs": [
    {
     "name": "stdout",
     "output_type": "stream",
     "text": [
      "Context: [Document(id='dbd8b9a2-ebd9-4726-9ed6-59873c40c3d5', metadata={'source': 'https://lilianweng.github.io/posts/2023-06-23-agent/', 'start_index': 1585}, page_content='Fig. 1. Overview of a LLM-powered autonomous agent system.\\nComponent One: Planning#\\nA complicated task usually involves many steps. An agent needs to know what they are and plan ahead.\\nTask Decomposition#\\nChain of thought (CoT; Wei et al. 2022) has become a standard prompting technique for enhancing model performance on complex tasks. The model is instructed to “think step by step” to utilize more test-time computation to decompose hard tasks into smaller and simpler steps. CoT transforms big tasks into multiple manageable tasks and shed lights into an interpretation of the model’s thinking process.'), Document(id='e23b43d5-acc2-4eaf-94d5-7516c7961cfa', metadata={'source': 'https://lilianweng.github.io/posts/2023-06-23-agent/', 'start_index': 2192}, page_content='Tree of Thoughts (Yao et al. 2023) extends CoT by exploring multiple reasoning possibilities at each step. It first decomposes the problem into multiple thought steps and generates multiple thoughts per step, creating a tree structure. The search process can be BFS (breadth-first search) or DFS (depth-first search) with each state evaluated by a classifier (via a prompt) or majority vote.\\nTask decomposition can be done (1) by LLM with simple prompting like \"Steps for XYZ.\\\\n1.\", \"What are the subgoals for achieving XYZ?\", (2) by using task-specific instructions; e.g. \"Write a story outline.\" for writing a novel, or (3) with human inputs.'), Document(id='4d2d0a25-9391-4aa6-bc3e-fe1c300c827c', metadata={'source': 'https://lilianweng.github.io/posts/2023-06-23-agent/', 'start_index': 17803}, page_content='The AI assistant can parse user input to several tasks: [{\"task\": task, \"id\", task_id, \"dep\": dependency_task_ids, \"args\": {\"text\": text, \"image\": URL, \"audio\": URL, \"video\": URL}}]. The \"dep\" field denotes the id of the previous task which generates a new resource that the current task relies on. A special tag \"-task_id\" refers to the generated text image, audio and video in the dependency task with id as task_id. The task MUST be selected from the following options: {{ Available Task List }}. There is a logical relationship between tasks, please note their order. If the user input can\\'t be parsed, you need to reply empty JSON. Here are several cases for your reference: {{ Demonstrations }}. The chat history is recorded as {{ Chat History }}. From this chat history, you can find the path of the user-mentioned resources for your task planning.'), Document(id='141b45e4-55f5-49cd-956c-2b76701e2e62', metadata={'source': 'https://lilianweng.github.io/posts/2023-06-23-agent/', 'start_index': 17413}, page_content='Fig. 11. Illustration of how HuggingGPT works. (Image source: Shen et al. 2023)\\nThe system comprises of 4 stages:\\n(1) Task planning: LLM works as the brain and parses the user requests into multiple tasks. There are four attributes associated with each task: task type, ID, dependencies, and arguments. They use few-shot examples to guide LLM to do task parsing and planning.\\nInstruction:')]\n",
      "\n",
      "\n",
      "Answer: 任务分解是将复杂任务分解为多个更简单的子任务的过程。通过逐步思考，模型可以更有效地处理这些任务，并提高其执行性能。它可以通过简单的提示、任务特定的指令或人类输入来实现。\n"
     ]
    }
   ],
   "source": [
    "result = graph.invoke({\"question\": \"什么是任务分解？\"})\n",
    "\n",
    "print(f'Context: {result[\"context\"]}\\n\\n')\n",
    "print(f'Answer: {result[\"answer\"]}')"
   ]
  },
  {
   "cell_type": "markdown",
   "id": "4ef88f30-40ca-476b-808d-794cb72d401f",
   "metadata": {},
   "source": [
    "流程步骤："
   ]
  },
  {
   "cell_type": "code",
   "execution_count": 18,
   "id": "e6314a96-aab8-4ecc-bbf9-094fa2aa0e50",
   "metadata": {},
   "outputs": [
    {
     "name": "stdout",
     "output_type": "stream",
     "text": [
      "{'retrieve': {'context': [Document(id='dbd8b9a2-ebd9-4726-9ed6-59873c40c3d5', metadata={'source': 'https://lilianweng.github.io/posts/2023-06-23-agent/', 'start_index': 1585}, page_content='Fig. 1. Overview of a LLM-powered autonomous agent system.\\nComponent One: Planning#\\nA complicated task usually involves many steps. An agent needs to know what they are and plan ahead.\\nTask Decomposition#\\nChain of thought (CoT; Wei et al. 2022) has become a standard prompting technique for enhancing model performance on complex tasks. The model is instructed to “think step by step” to utilize more test-time computation to decompose hard tasks into smaller and simpler steps. CoT transforms big tasks into multiple manageable tasks and shed lights into an interpretation of the model’s thinking process.'), Document(id='e23b43d5-acc2-4eaf-94d5-7516c7961cfa', metadata={'source': 'https://lilianweng.github.io/posts/2023-06-23-agent/', 'start_index': 2192}, page_content='Tree of Thoughts (Yao et al. 2023) extends CoT by exploring multiple reasoning possibilities at each step. It first decomposes the problem into multiple thought steps and generates multiple thoughts per step, creating a tree structure. The search process can be BFS (breadth-first search) or DFS (depth-first search) with each state evaluated by a classifier (via a prompt) or majority vote.\\nTask decomposition can be done (1) by LLM with simple prompting like \"Steps for XYZ.\\\\n1.\", \"What are the subgoals for achieving XYZ?\", (2) by using task-specific instructions; e.g. \"Write a story outline.\" for writing a novel, or (3) with human inputs.'), Document(id='4d2d0a25-9391-4aa6-bc3e-fe1c300c827c', metadata={'source': 'https://lilianweng.github.io/posts/2023-06-23-agent/', 'start_index': 17803}, page_content='The AI assistant can parse user input to several tasks: [{\"task\": task, \"id\", task_id, \"dep\": dependency_task_ids, \"args\": {\"text\": text, \"image\": URL, \"audio\": URL, \"video\": URL}}]. The \"dep\" field denotes the id of the previous task which generates a new resource that the current task relies on. A special tag \"-task_id\" refers to the generated text image, audio and video in the dependency task with id as task_id. The task MUST be selected from the following options: {{ Available Task List }}. There is a logical relationship between tasks, please note their order. If the user input can\\'t be parsed, you need to reply empty JSON. Here are several cases for your reference: {{ Demonstrations }}. The chat history is recorded as {{ Chat History }}. From this chat history, you can find the path of the user-mentioned resources for your task planning.'), Document(id='141b45e4-55f5-49cd-956c-2b76701e2e62', metadata={'source': 'https://lilianweng.github.io/posts/2023-06-23-agent/', 'start_index': 17413}, page_content='Fig. 11. Illustration of how HuggingGPT works. (Image source: Shen et al. 2023)\\nThe system comprises of 4 stages:\\n(1) Task planning: LLM works as the brain and parses the user requests into multiple tasks. There are four attributes associated with each task: task type, ID, dependencies, and arguments. They use few-shot examples to guide LLM to do task parsing and planning.\\nInstruction:')]}}\n",
      "\n",
      "----------------\n",
      "\n",
      "{'generate': {'answer': '任务分解是将复杂任务分解为更小、更简单的步骤的过程，以便更好地进行规划和执行。使用诸如“逐步思考”的提示技术，模型可以有效地识别任务的各个部分，并在每一步进行推理和评估。这个过程可以通过简单的提示、任务特定指令或人工输入来实现。'}}\n",
      "\n",
      "----------------\n",
      "\n"
     ]
    }
   ],
   "source": [
    "for step in graph.stream(\n",
    "    {\"question\": \"什么是任务分解？\"}, stream_mode=\"updates\"\n",
    "):\n",
    "    print(f\"{step}\\n\\n----------------\\n\")"
   ]
  },
  {
   "cell_type": "markdown",
   "id": "f860142d-d50b-4526-a03f-a59a763117fe",
   "metadata": {},
   "source": [
    "流式传输 [令牌](/docs/concepts/tokens/)："
   ]
  },
  {
   "cell_type": "code",
   "execution_count": 17,
   "id": "28625cc3-0f77-4143-af51-ce0fd6682120",
   "metadata": {},
   "outputs": [
    {
     "name": "stdout",
     "output_type": "stream",
     "text": [
      "|Task| decomposition| is| the| process| of| breaking| down| complex| tasks| into| smaller|,| more| manageable| steps|.| It| can| be| achieved| through| techniques| like| Chain| of| Thought| (|Co|T|)| prompting|,| which| encourages| the| model| to| think| step| by| step|,| or| through| more| structured| methods| like| the| Tree| of| Thoughts|.| This| approach| not| only| simplifies| task| execution| but| also| provides| insights| into| the| model|'s| reasoning| process|.||"
     ]
    }
   ],
   "source": [
    "for message, metadata in graph.stream(\n",
    "    {\"question\": \"What is Task Decomposition?\"}, stream_mode=\"messages\"\n",
    "):\n",
    "    print(message.content, end=\"|\")"
   ]
  },
  {
   "cell_type": "markdown",
   "id": "0fe09894-0cc5-4427-9a24-aef60d20705f",
   "metadata": {},
   "source": [
    ":::提示\n",
    "\n",
    "对于异步调用，请使用：\n",
    "\n",
    "```python\n",
    "result = await graph.ainvoke(...)\n",
    "async for step in graph.astream(...):\n",
    "```"
   ]
  },
  {
   "cell_type": "markdown",
   "id": "406534d4-66a3-4c27-b277-2bd2f5930cf5",
   "metadata": {},
   "source": [
    "#### 返回来源\n",
    "\n",
    "请注意，通过将检索到的上下文存储在图表的状态中，我们可以在状态的 `\"context\"` 字段中获取模型生成答案的来源。有关返回来源的更多详细信息，请参阅[本指南](/docs/how_to/qa_sources/)。\n",
    "\n",
    "#### 深入探索\n",
    "\n",
    "[聊天模型](/docs/concepts/chat_models)接收一系列消息并返回一条消息。\n",
    "\n",
    "- [文档](/docs/how_to#chat-models)\n",
    "- [集成](/docs/integrations/chat/)：提供25种以上集成方案供选择。\n",
    "- [接口](https://python.langchain.com/api_reference/core/language_models/langchain_core.language_models.chat_models.BaseChatModel.html): 基础接口的API参考文档。\n",
    "\n",
    "**自定义提示词**\n",
    "\n",
    "如上所示，我们可以加载提示（例如，[这个RAG\n",
    "[提示](https://smith.langchain.com/hub/rlm/rag-prompt) 来自提示\n",
    "中心。提示词也可以轻松定制。例如："
   ]
  },
  {
   "cell_type": "code",
   "execution_count": 19,
   "id": "956e7e78-c26c-4d2d-bf2e-4fc41ff40d37",
   "metadata": {},
   "outputs": [],
   "source": [
    "from langchain_core.prompts import PromptTemplate\n",
    "\n",
    "template = \"\"\"使用以下上下文来回答最终的问题。\n",
    "如果你不知道答案，就说你不知道，不要尝试编造答案。\n",
    "最多使用三句话，并尽量使答案简洁。\n",
    "总是以\"谢谢你问！\"结尾。\n",
    "\n",
    "{context}\n",
    "\n",
    "Question: {question}\n",
    "\n",
    "Helpful Answer:\"\"\"\n",
    "custom_rag_prompt = PromptTemplate.from_template(template)"
   ]
  },
  {
   "cell_type": "markdown",
   "id": "217cf819-da76-4595-8f75-33f931f1f92a",
   "metadata": {},
   "source": [
    "## 查询分析\n",
    "\n",
    "截至目前，我们一直使用原始输入查询执行检索。然而，允许模型为检索目的生成查询具有一些优势，例如：\n",
    "\n",
    "- 除了语义搜索，我们还可以构建结构化过滤器（例如，“查找2020年以来的文档”）。\n",
    "- 该模型能够将用户可能包含多方面内容或无关语言的查询，重写为更有效的搜索查询。\n",
    "\n",
    "[查询分析](/docs/concepts/retrieval/#query-analysis)通过模型将原始用户输入转换或构建为优化的搜索查询。我们可以轻松地在应用程序中加入查询分析步骤。出于演示目的，让我们为向量存储中的文档添加一些元数据。我们将为文档添加一些（人为设计的）可筛选段落。"
   ]
  },
  {
   "cell_type": "code",
   "execution_count": 19,
   "id": "df00956a-6565-4c05-b201-32854dd2a889",
   "metadata": {},
   "outputs": [
    {
     "data": {
      "text/plain": [
       "{'source': 'https://lilianweng.github.io/posts/2023-06-23-agent/',\n",
       " 'start_index': 8,\n",
       " 'section': 'beginning'}"
      ]
     },
     "execution_count": 19,
     "metadata": {},
     "output_type": "execute_result"
    }
   ],
   "source": [
    "total_documents = len(all_splits)\n",
    "third = total_documents // 3\n",
    "\n",
    "for i, document in enumerate(all_splits):\n",
    "    if i < third:\n",
    "        document.metadata[\"section\"] = \"beginning\"\n",
    "    elif i < 2 * third:\n",
    "        document.metadata[\"section\"] = \"middle\"\n",
    "    else:\n",
    "        document.metadata[\"section\"] = \"end\"\n",
    "\n",
    "\n",
    "all_splits[0].metadata"
   ]
  },
  {
   "cell_type": "markdown",
   "id": "114878bd-a334-41ed-8013-ec4ce0a9112b",
   "metadata": {},
   "source": [
    "我们需要更新向量存储中的文档。为此，我们将使用简单的 [InMemoryVectorStore](https://python.langchain.com/api_reference/core/vectorstores/langchain_core.vectorstores.in_memory.InMemoryVectorStore.html)，因为它具备我们所需的特定功能（例如元数据过滤）。请参考向量存储的 [集成文档](/docs/integrations/vectorstores/) 以了解所选向量存储的相关功能。"
   ]
  },
  {
   "cell_type": "code",
   "execution_count": 20,
   "id": "ebb3cbd7-7c75-4cc0-a198-ff7c54a0c43a",
   "metadata": {},
   "outputs": [],
   "source": [
    "from langchain_core.vectorstores import InMemoryVectorStore\n",
    "\n",
    "vector_store = InMemoryVectorStore(embeddings)\n",
    "_ = vector_store.add_documents(all_splits)"
   ]
  },
  {
   "cell_type": "markdown",
   "id": "c08aaccd-b3df-45e9-8646-d6ea20215e62",
   "metadata": {},
   "source": [
    "接下来，让我们为搜索查询定义一个模式。为此，我们将使用[结构化输出](/docs/concepts/structured_outputs/)。这里我们将查询定义为一个包含字符串查询和文档部分（可以是\"开头\"、\"中间\"或\"结尾\"）的对象，但您可以根据需要自由定义。"
   ]
  },
  {
   "cell_type": "code",
   "execution_count": 21,
   "id": "87f9c8c3-3e99-426d-aa65-fec4b9155c3f",
   "metadata": {},
   "outputs": [],
   "source": [
    "from typing import Literal\n",
    "\n",
    "from typing_extensions import Annotated\n",
    "\n",
    "\n",
    "class Search(TypedDict):\n",
    "    \"\"\"Search query.\"\"\"\n",
    "\n",
    "    query: Annotated[str, ..., \"Search query to run.\"]\n",
    "    section: Annotated[\n",
    "        Literal[\"beginning\", \"middle\", \"end\"],\n",
    "        ...,\n",
    "        \"Section to query.\",\n",
    "    ]"
   ]
  },
  {
   "cell_type": "markdown",
   "id": "6399a870-cb06-4219-9b4f-cfa37cb8ab0f",
   "metadata": {},
   "source": [
    "最后，我们在LangGraph应用中增加一个步骤，用于根据用户的原始输入生成查询："
   ]
  },
  {
   "cell_type": "code",
   "execution_count": 22,
   "id": "7e8fcdcb-a4ff-41c3-97c7-92d81ab29f38",
   "metadata": {},
   "outputs": [],
   "source": [
    "class State(TypedDict):\n",
    "    question: str\n",
    "    # highlight-next-line\n",
    "    query: Search\n",
    "    context: List[Document]\n",
    "    answer: str\n",
    "\n",
    "\n",
    "# highlight-next-line\n",
    "def analyze_query(state: State):\n",
    "    # highlight-next-line\n",
    "    structured_llm = llm.with_structured_output(Search)\n",
    "    # highlight-next-line\n",
    "    query = structured_llm.invoke(state[\"question\"])\n",
    "    # highlight-next-line\n",
    "    return {\"query\": query}\n",
    "\n",
    "\n",
    "def retrieve(state: State):\n",
    "    # highlight-start\n",
    "    query = state[\"query\"]\n",
    "    retrieved_docs = vector_store.similarity_search(\n",
    "        query[\"query\"],\n",
    "        filter=lambda doc: doc.metadata.get(\"section\") == query[\"section\"],\n",
    "    )\n",
    "    # highlight-end\n",
    "    return {\"context\": retrieved_docs}\n",
    "\n",
    "\n",
    "def generate(state: State):\n",
    "    docs_content = \"\\n\\n\".join(doc.page_content for doc in state[\"context\"])\n",
    "    messages = prompt.invoke({\"question\": state[\"question\"], \"context\": docs_content})\n",
    "    response = llm.invoke(messages)\n",
    "    return {\"answer\": response.content}\n",
    "\n",
    "\n",
    "# highlight-start\n",
    "graph_builder = StateGraph(State).add_sequence([analyze_query, retrieve, generate])\n",
    "graph_builder.add_edge(START, \"analyze_query\")\n",
    "# highlight-end\n",
    "graph = graph_builder.compile()"
   ]
  },
  {
   "cell_type": "markdown",
   "id": "28a62d34",
   "metadata": {},
   "source": [
    "<details>\n",
    "<summary>完整代码：</summary>\n",
    "\n",
    "```python\n",
    "from typing import Literal\n",
    "\n",
    "import bs4\n",
    "from langchain import hub\n",
    "from langchain_community.document_loaders import WebBaseLoader\n",
    "from langchain_core.documents import Document\n",
    "from langchain_core.vectorstores import InMemoryVectorStore\n",
    "```markdown\n",
    "from langchain_text_splitters import RecursiveCharacterTextSplitter\n",
    "```\n",
    "from langgraph.graph import START, StateGraph\n",
    "```markdown\n",
    "from typing_extensions import Annotated, List, TypedDict\n",
    "```\n",
    "\n",
    "# 加载并分块处理博客内容\n",
    "```markdown\n",
    "loader = WebBaseLoader(\n",
    "```\n",
    "web_paths=(\"https://lilianweng.github.io/posts/2023-06-23-agent/\",),\n",
    "```markdown\n",
    "bs_kwargs=dict(\n",
    "```\n",
    "```markdown\n",
    "parse_only=bs4.SoupStrainer(\n",
    "```\n",
    "class_=(\"文章内容\", \"文章标题\", \"文章头部\")\n",
    ")\n",
    ")\n",
    "好的,我会按照要求将英文翻译成中文,并保持标准的markdown格式。以下是一个示例翻译:\n",
    "\n",
    "# 欢迎使用翻译助手\n",
    "\n",
    "这是一个**markdown格式**的翻译示例:\n",
    "\n",
    "## 主要功能\n",
    "- 提供准确的翻译服务\n",
    "- 保持原始文档格式\n",
    "- 支持多种语言互译\n",
    "\n",
    "### 使用说明\n",
    "1. 输入需要翻译的文本\n",
    "2. 指定目标语言\n",
    "3. 获取翻译结果\n",
    "\n",
    "> 注意:翻译质量取决于原文的清晰度和专业性\n",
    "\n",
    "如需更多帮助,请访问我们的[官方网站](https://example.com)\n",
    "文档 = 加载器.加载()\n",
    "\n",
    "text_splitter = RecursiveCharacterTextSplitter(chunk_size=1000, chunk_overlap=200)\n",
    "all_splits = text_splitter.split_documents(docs)\n",
    "\n",
    "\n",
    "# 更新元数据（用于说明用途）\n",
    "total_documents = len(all_splits)\n",
    "三分之一 = 总文档数 // 3\n",
    "\n",
    "for i, document in enumerate(all_splits):\n",
    "如果 i < 第三位：\n",
    "document.metadata[\"section\"] = \"beginning\"\n",
    "    elif i < 2 * third:\n",
    "document.metadata[\"section\"] = \"middle\"\n",
    "否则：\n",
    "document.metadata[\"section\"] = \"end\"\n",
    "\n",
    "\n",
    "# 索引块\n",
    "vector_store = InMemoryVectorStore(embeddings)\n",
    "_ = vector_store.add_documents(all_splits)\n",
    "\n",
    "\n",
    "# 定义搜索模式\n",
    "```markdown\n",
    "class Search(TypedDict):\n",
    "```\n",
    "\"\"\"搜索查询。\"\"\"\n",
    "\n",
    "    query: Annotated[str, ..., \"要运行的搜索查询。\"]\n",
    "    section: 标注部分\n",
    "`[\"开头\", \"中间\", \"结尾\"]`\n",
    "...，\n",
    "\"待查询的章节。\"\n",
    "    ]\n",
    "\n",
    "# 定义问答提示\n",
    "prompt = hub.pull(\"rlm/rag-prompt\")\n",
    "\n",
    "\n",
    "# 定义应用程序状态\n",
    "```markdown\n",
    "class State(TypedDict):\n",
    "```\n",
    "问题: str\n",
    "查询：搜索\n",
    "上下文：文档列表\n",
    "    answer: str\n",
    "\n",
    "\n",
    "```markdown\n",
    "def analyze_query(state: State):\n",
    "```\n",
    "structured_llm = llm.with_structured_output(搜索)\n",
    "query = structured_llm.invoke(state[\"question\"])\n",
    "返回 {\"query\": query}\n",
    "\n",
    "\n",
    "```markdown\n",
    "def retrieve(state: State):\n",
    "```\n",
    "```markdown\n",
    "query = state[\"query\"]\n",
    "```\n",
    "检索到的文档 = 向量存储.相似性搜索(\n",
    "        query[\"query\"],\n",
    "```markdown\n",
    "filter=lambda doc: doc.metadata.get(\"section\") == query[\"section\"],\n",
    "```\n",
    ")\n",
    "返回 {\"context\": retrieved_docs}\n",
    "\n",
    "\n",
    "def generate(state: State):\n",
    "docs_content = \"\\n\\n\".join(doc.page_content for doc in state[\"context\"])\n",
    "messages = prompt.invoke({\"question\": state[\"question\"], \"context\": docs_content})\n",
    "response = llm.invoke(messages)\n",
    "返回 {\"answer\": response.content}\n",
    "\n",
    "\n",
    "graph_builder = StateGraph(State).add_sequence([analyze_query, retrieve, generate])\n",
    "graph_builder.add_edge(START, \"analyze_query\")\n",
    "graph = graph_builder.compile()\n",
    "好的,我会严格按照您的要求进行翻译,确保markdown格式一致。以下是一个示例翻译:\n",
    "\n",
    "# Project Documentation\n",
    "\n",
    "## Introduction\n",
    "This document provides an overview of the XYZ project.\n",
    "\n",
    "### Key Features\n",
    "- Feature 1: Real-time data processing\n",
    "- Feature 2: Cloud-based storage\n",
    "- Feature 3: Cross-platform compatibility\n",
    "\n",
    "## Installation\n",
    "To install the software:\n",
    "1. Download the package from [our website](https://example.com)\n",
    "2. Run `install.sh` in terminal\n",
    "3. Follow the on-screen instructions\n",
    "\n",
    "> Note: Administrator privileges may be required during installation.\n",
    "\n",
    "```python\n",
    "def hello_world():\n",
    "    print(\"Hello, World!\")\n",
    "```\n",
    "\n",
    "| Parameter | Description |\n",
    "|-----------|-------------|\n",
    "| timeout   | Connection timeout in seconds |\n",
    "| retries   | Number of connection retry attempts |\n",
    "\n",
    "</details>"
   ]
  },
  {
   "cell_type": "code",
   "execution_count": 25,
   "id": "8a92d539-f85d-434b-b911-51a1cf9b81da",
   "metadata": {},
   "outputs": [
    {
     "data": {
      "image/png": "[encoded data removed]",
      "text/plain": [
       "<IPython.core.display.Image object>"
      ]
     },
     "metadata": {},
     "output_type": "display_data"
    }
   ],
   "source": [
    "display(Image(graph.get_graph().draw_mermaid_png()))"
   ]
  },
  {
   "cell_type": "markdown",
   "id": "653cf8dc-a201-43ea-9965-02fcfd2fc316",
   "metadata": {},
   "source": [
    "我们可以通过明确要求获取帖子末尾的上下文来测试我们的实现。请注意，模型在其回答中包含了不同的信息。"
   ]
  },
  {
   "cell_type": "code",
   "execution_count": 25,
   "id": "8b420650-2d9e-4f5e-a8d8-ec36ae07423c",
   "metadata": {},
   "outputs": [
    {
     "name": "stdout",
     "output_type": "stream",
     "text": [
      "{'analyze_query': {'query': {'query': 'Task Decomposition', 'section': 'end'}}}\n",
      "\n",
      "----------------\n",
      "\n",
      "{'retrieve': {'context': [Document(id='d6cef137-e1e8-4ddc-91dc-b62bd33c6020', metadata={'source': 'https://lilianweng.github.io/posts/2023-06-23-agent/', 'start_index': 39221, 'section': 'end'}, page_content='Finite context length: The restricted context capacity limits the inclusion of historical information, detailed instructions, API call context, and responses. The design of the system has to work with this limited communication bandwidth, while mechanisms like self-reflection to learn from past mistakes would benefit a lot from long or infinite context windows. Although vector stores and retrieval can provide access to a larger knowledge pool, their representation power is not as powerful as full attention.\\n\\n\\nChallenges in long-term planning and task decomposition: Planning over a lengthy history and effectively exploring the solution space remain challenging. LLMs struggle to adjust plans when faced with unexpected errors, making them less robust compared to humans who learn from trial and error.'), Document(id='d1834ae1-eb6a-43d7-a023-08dfa5028799', metadata={'source': 'https://lilianweng.github.io/posts/2023-06-23-agent/', 'start_index': 39086, 'section': 'end'}, page_content='}\\n]\\nChallenges#\\nAfter going through key ideas and demos of building LLM-centered agents, I start to see a couple common limitations:'), Document(id='ca7f06e4-2c2e-4788-9a81-2418d82213d9', metadata={'source': 'https://lilianweng.github.io/posts/2023-06-23-agent/', 'start_index': 32942, 'section': 'end'}, page_content='}\\n]\\nThen after these clarification, the agent moved into the code writing mode with a different system message.\\nSystem message:'), Document(id='1fcc2736-30f4-4ef6-90f2-c64af92118cb', metadata={'source': 'https://lilianweng.github.io/posts/2023-06-23-agent/', 'start_index': 35127, 'section': 'end'}, page_content='\"content\": \"You will get instructions for code to write.\\\\nYou will write a very long answer. Make sure that every detail of the architecture is, in the end, implemented as code.\\\\nMake sure that every detail of the architecture is, in the end, implemented as code.\\\\n\\\\nThink step by step and reason yourself to the right decisions to make sure we get it right.\\\\nYou will first lay out the names of the core classes, functions, methods that will be necessary, as well as a quick comment on their purpose.\\\\n\\\\nThen you will output the content of each file including ALL code.\\\\nEach file must strictly follow a markdown code block format, where the following tokens must be replaced such that\\\\nFILENAME is the lowercase file name including the file extension,\\\\nLANG is the markup code block language for the code\\'s language, and CODE is the code:\\\\n\\\\nFILENAME\\\\n```LANG\\\\nCODE\\\\n```\\\\n\\\\nYou will start with the \\\\\"entrypoint\\\\\" file, then go to the ones that are imported by that file, and so on.\\\\nPlease')]}}\n",
      "\n",
      "----------------\n",
      "\n",
      "{'generate': {'answer': 'The end of the post highlights that task decomposition faces challenges in long-term planning and adapting to unexpected errors. LLMs struggle with adjusting their plans, making them less robust compared to humans who learn from trial and error. This indicates a limitation in effectively exploring the solution space and handling complex tasks.'}}\n",
      "\n",
      "----------------\n",
      "\n"
     ]
    }
   ],
   "source": [
    "for step in graph.stream(\n",
    "    {\"question\": \"What does the end of the post say about Task Decomposition?\"},\n",
    "    stream_mode=\"updates\",\n",
    "):\n",
    "    print(f\"{step}\\n\\n----------------\\n\")"
   ]
  },
  {
   "cell_type": "markdown",
   "id": "5875a48a-c849-4da9-99e0-558b04884fb0",
   "metadata": {},
   "source": [
    "无论是在流式处理的步骤中，还是在[LangSmith追踪记录](https://smith.langchain.com/public/bdbaae61-130c-4338-8b59-9315dfee22a0/r)里，我们现在都能观察到输入到检索步骤的结构化查询。\n",
    "\n",
    "查询分析是一个涉及多种方法的复杂问题。更多示例请参考[操作指南](/docs/how_to/#query-analysis)。"
   ]
  },
  {
   "cell_type": "markdown",
   "id": "82e4d779",
   "metadata": {},
   "source": [
    "## 后续步骤\n",
    "\n",
    "我们已经介绍了基于数据构建基础问答应用的步骤：\n",
    "\n",
    "- 使用[文档加载器](/docs/concepts/document_loaders)加载数据\n",
    "- 使用[文本分割器](/docs/concepts/text_splitters)对索引数据进行分块处理，使其更易于模型使用\n",
    "- [嵌入数据](/docs/concepts/embedding_models) 并将数据存储在[向量数据库](/docs/how_to/vectorstores)中\n",
    "- [检索](/docs/concepts/retrievers) 先前存储的文本块以响应传入的问题\n",
    "- 使用检索到的文本块作为上下文生成答案。\n",
    "\n",
    "在[教程第2部分](/docs/tutorials/qa_chat_history)中，我们将扩展当前实现以支持对话式交互和多步骤检索流程。\n",
    "\n",
    "进一步阅读：\n",
    "\n",
    "- [返回来源](/docs/how_to/qa_sources): 了解如何返回源文档\n",
    "- [流式传输](/docs/how_to/streaming): 了解如何流式输出结果及中间步骤\n",
    "- [添加聊天记录](/docs/how_to/message_history): 了解如何为您的应用添加聊天记录功能\n",
    "- [检索概念指南](/docs/concepts/retrieval): 关于特定检索技术的高层次概述"
   ]
  }
 ],
 "metadata": {
  "kernelspec": {
   "display_name": "llm",
   "language": "python",
   "name": "python3"
  },
  "language_info": {
   "codemirror_mode": {
    "name": "ipython",
    "version": 3
   },
   "file_extension": ".py",
   "mimetype": "text/x-python",
   "name": "python",
   "nbconvert_exporter": "python",
   "pygments_lexer": "ipython3",
   "version": "3.10.16"
  }
 },
 "nbformat": 4,
 "nbformat_minor": 5
}
